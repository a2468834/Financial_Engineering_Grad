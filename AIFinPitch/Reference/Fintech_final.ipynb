{
 "cells": [
  {
   "cell_type": "code",
   "execution_count": 7,
   "metadata": {
    "id": "ODA86FU5iGIi"
   },
   "outputs": [],
   "source": [
    "\n",
    "# python 3.7.3\n",
    "import os, itertools, csv\n",
    "\n",
    "from IPython.display import Image\n",
    "from IPython.display import display\n",
    "\n",
    "# numpy  1.17.1\n",
    "import numpy as np\n",
    "\n",
    "# pandas  0.25.1\n",
    "import pandas as pd\n",
    "\n",
    "# scikit-learn  0.21.3\n",
    "from sklearn.compose import ColumnTransformer\n",
    "from sklearn.datasets import make_moons\n",
    "from sklearn.impute import SimpleImputer \n",
    "from sklearn.linear_model import LogisticRegression, Perceptron\n",
    "from sklearn.metrics import accuracy_score\n",
    "from sklearn.model_selection import GridSearchCV, train_test_split\n",
    "from sklearn.neighbors import KNeighborsClassifier\n",
    "from sklearn.pipeline import Pipeline\n",
    "from sklearn.preprocessing import LabelEncoder, OneHotEncoder, StandardScaler\n",
    "from sklearn.svm import SVC\n",
    "\n",
    "import matplotlib.pyplot as plt\n",
    "# matplotlib  3.1.1\n",
    "import matplotlib\n",
    "matplotlib.rcParams.update({'font.size': 22})\n",
    "plt = matplotlib.pyplot\n"
   ]
  },
  {
   "cell_type": "code",
   "execution_count": 8,
   "metadata": {
    "colab": {
     "base_uri": "https://localhost:8080/"
    },
    "id": "3RVHgRqYiQMz",
    "outputId": "0b3ff22b-72cc-4bcb-dbbb-3a5a64c8cb6d"
   },
   "outputs": [
    {
     "name": "stdout",
     "output_type": "stream",
     "text": [
      "load ok\n"
     ]
    }
   ],
   "source": [
    "import pandas as pd\n",
    "X_train = np.load('proper X_train.npy')\n",
    "X_test = np.load('proper X_test.npy')\n",
    "Y_train = np.load('proper Y_train.npy')\n",
    "Y_test = pd.read_csv(\"Y_test.csv\")\n",
    "\n",
    "print('load ok')"
   ]
  },
  {
   "cell_type": "code",
   "execution_count": 3,
   "metadata": {},
   "outputs": [],
   "source": [
    "#########################################################  PCA"
   ]
  },
  {
   "cell_type": "code",
   "execution_count": 5,
   "metadata": {
    "jupyter": {
     "source_hidden": true
    }
   },
   "outputs": [],
   "source": [
    "\n",
    "\n",
    "# inline plotting instead of popping out\n",
    "%matplotlib inline\n",
    "\n",
    "import os\n",
    "import numpy as np # numpy  1.17.1\n",
    "import pandas as pd # pandas  0.25.1\n",
    "import matplotlib.pyplot as plt # matplotlib 3.1.1\n",
    "import seaborn as sns # seaborn 0.9.0\n",
    "from sklearn.preprocessing import StandardScaler # scikit-learn 0.21.3\n",
    "\n"
   ]
  },
  {
   "cell_type": "code",
   "execution_count": 6,
   "metadata": {
    "jupyter": {
     "source_hidden": true
    }
   },
   "outputs": [],
   "source": [
    "canpca = X_train[:,-109:]"
   ]
  },
  {
   "cell_type": "code",
   "execution_count": 12,
   "metadata": {
    "jupyter": {
     "source_hidden": true
    }
   },
   "outputs": [],
   "source": [
    "# Z-normalize data\n",
    "sc = StandardScaler()\n",
    "Z = sc.fit_transform(canpca)\n",
    "# Estimate the correlation matrix\n",
    "R = np.dot(Z.T, Z) / canpca.shape[0]\n",
    "\n",
    "#sns.set(font_scale=1.0)\n",
    "\n",
    "#ticklabels = [s for s in X_train.columns]\n",
    "\n",
    "#hm = sns.heatmap(\n",
    "#    R,\n",
    "#    cbar = True,\n",
    "#    square = True,\n",
    "#    yticklabels = ticklabels,\n",
    "#    xticklabels = ticklabels\n",
    "#)\n",
    "\n",
    "#plt.figure(figsize=(10, 8))\n",
    "#plt.tight_layout()\n",
    "#plt.savefig('./output/fig-wine-corr.png', dpi = 300)\n",
    "#plt.show()\n",
    "\n",
    "#sns.reset_orig()"
   ]
  },
  {
   "cell_type": "code",
   "execution_count": null,
   "metadata": {
    "jupyter": {
     "source_hidden": true
    }
   },
   "outputs": [],
   "source": [
    "\n",
    "\n",
    "eigen_vals, eigen_vecs = np.linalg.eigh(R)\n",
    "\n",
    "print('\\nEigenvalues: \\n%s' % eigen_vals)\n",
    "\n"
   ]
  },
  {
   "cell_type": "code",
   "execution_count": 15,
   "metadata": {
    "collapsed": true,
    "jupyter": {
     "outputs_hidden": true,
     "source_hidden": true
    }
   },
   "outputs": [
    {
     "data": {
      "image/png": "[encoded data removed]",
      "text/plain": [
       "<Figure size 432x288 with 1 Axes>"
      ]
     },
     "metadata": {},
     "output_type": "display_data"
    }
   ],
   "source": [
    "\n",
    "\n",
    "tot = sum(np.abs(eigen_vals))\n",
    "var_exp = [(i / tot) for i in sorted(np.abs(eigen_vals), reverse=True)]\n",
    "cum_var_exp = np.cumsum(var_exp)\n",
    "\n",
    "plt.bar(range(1, eigen_vals.size + 1), var_exp, alpha=0.5, align='center',\n",
    "        label='Individual')\n",
    "plt.step(range(1, eigen_vals.size + 1), cum_var_exp, where='mid',\n",
    "         label='Cumulative')\n",
    "plt.ylabel('Explained variance ratio')\n",
    "plt.xlabel('Principal components')\n",
    "plt.legend(loc='best')\n",
    "plt.tight_layout()\n",
    "#plt.savefig('./output/fig-pca-var-exp.png', dpi=300)\n",
    "plt.show()\n",
    "\n"
   ]
  },
  {
   "cell_type": "code",
   "execution_count": 16,
   "metadata": {
    "jupyter": {
     "source_hidden": true
    }
   },
   "outputs": [],
   "source": [
    "\n",
    "\n",
    "# Make a list of (eigenvalue, eigenvector) tuples\n",
    "eigen_pairs = [(np.abs(eigen_vals[i]), eigen_vecs[:,i]) for i in range(len(eigen_vals))]\n",
    "\n",
    "# Sort the (eigenvalue, eigenvector) tuples from high to low\n",
    "eigen_pairs.sort(reverse=True)\n",
    "\n"
   ]
  },
  {
   "cell_type": "code",
   "execution_count": null,
   "metadata": {
    "jupyter": {
     "source_hidden": true
    }
   },
   "outputs": [],
   "source": [
    "eigen_pairs"
   ]
  },
  {
   "cell_type": "code",
   "execution_count": null,
   "metadata": {
    "jupyter": {
     "source_hidden": true
    }
   },
   "outputs": [],
   "source": [
    "W = np.hstack((eigen_pairs[0][1][:, np.newaxis],\n",
    "               eigen_pairs[1][1][:, np.newaxis],\n",
    "               eigen_pairs[2][1][:, np.newaxis],\n",
    "               eigen_pairs[3][1][:, np.newaxis],\n",
    "               eigen_pairs[4][1][:, np.newaxis],\n",
    "               eigen_pairs[5][1][:, np.newaxis],\n",
    "               eigen_pairs[6][1][:, np.newaxis],\n",
    "               eigen_pairs[7][1][:, np.newaxis],\n",
    "               eigen_pairs[8][1][:, np.newaxis],\n",
    "               eigen_pairs[9][1][:, np.newaxis],\n",
    "               eigen_pairs[10][1][:, np.newaxis],\n",
    "               eigen_pairs[11][1][:, np.newaxis],\n",
    "               eigen_pairs[12][1][:, np.newaxis],\n",
    "               eigen_pairs[13][1][:, np.newaxis],\n",
    "               eigen_pairs[14][1][:, np.newaxis],\n",
    "               eigen_pairs[15][1][:, np.newaxis],\n",
    "               eigen_pairs[16][1][:, np.newaxis],\n",
    "               eigen_pairs[17][1][:, np.newaxis],\n",
    "               eigen_pairs[18][1][:, np.newaxis],\n",
    "               eigen_pairs[19][1][:, np.newaxis],\n",
    "               eigen_pairs[20][1][:, np.newaxis],\n",
    "               eigen_pairs[21][1][:, np.newaxis],\n",
    "               eigen_pairs[22][1][:, np.newaxis],\n",
    "               eigen_pairs[23][1][:, np.newaxis],\n",
    "               eigen_pairs[24][1][:, np.newaxis],\n",
    "               eigen_pairs[25][1][:, np.newaxis],\n",
    "               eigen_pairs[26][1][:, np.newaxis],\n",
    "               eigen_pairs[27][1][:, np.newaxis],\n",
    "               eigen_pairs[28][1][:, np.newaxis],\n",
    "               eigen_pairs[29][1][:, np.newaxis],\n",
    "               eigen_pairs[30][1][:, np.newaxis],\n",
    "               eigen_pairs[31][1][:, np.newaxis],\n",
    "               eigen_pairs[32][1][:, np.newaxis],\n",
    "               eigen_pairs[33][1][:, np.newaxis],\n",
    "               eigen_pairs[34][1][:, np.newaxis],\n",
    "               eigen_pairs[35][1][:, np.newaxis],\n",
    "               eigen_pairs[36][1][:, np.newaxis],\n",
    "               eigen_pairs[37][1][:, np.newaxis],\n",
    "               eigen_pairs[38][1][:, np.newaxis],\n",
    "               eigen_pairs[39][1][:, np.newaxis],\n",
    "               eigen_pairs[40][1][:, np.newaxis],\n",
    "               eigen_pairs[41][1][:, np.newaxis],\n",
    "               eigen_pairs[42][1][:, np.newaxis],\n",
    "               eigen_pairs[43][1][:, np.newaxis],\n",
    "               eigen_pairs[44][1][:, np.newaxis],\n",
    "               eigen_pairs[45][1][:, np.newaxis],\n",
    "               eigen_pairs[46][1][:, np.newaxis],\n",
    "               eigen_pairs[47][1][:, np.newaxis],\n",
    "               eigen_pairs[48][1][:, np.newaxis],\n",
    "               eigen_pairs[49][1][:, np.newaxis],\n",
    "               eigen_pairs[50][1][:, np.newaxis],\n",
    "               eigen_pairs[51][1][:, np.newaxis],\n",
    "               eigen_pairs[52][1][:, np.newaxis],\n",
    "               eigen_pairs[53][1][:, np.newaxis],\n",
    "               eigen_pairs[54][1][:, np.newaxis],\n",
    "               eigen_pairs[55][1][:, np.newaxis],\n",
    "               eigen_pairs[56][1][:, np.newaxis],\n",
    "               eigen_pairs[57][1][:, np.newaxis],\n",
    "               eigen_pairs[58][1][:, np.newaxis],\n",
    "               eigen_pairs[59][1][:, np.newaxis],\n",
    "               eigen_pairs[60][1][:, np.newaxis],\n",
    "               eigen_pairs[61][1][:, np.newaxis],\n",
    "               eigen_pairs[62][1][:, np.newaxis],\n",
    "               eigen_pairs[63][1][:, np.newaxis],\n",
    "               eigen_pairs[64][1][:, np.newaxis],\n",
    "               eigen_pairs[65][1][:, np.newaxis],\n",
    "               eigen_pairs[66][1][:, np.newaxis],\n",
    "               eigen_pairs[67][1][:, np.newaxis],\n",
    "               eigen_pairs[68][1][:, np.newaxis],\n",
    "               eigen_pairs[69][1][:, np.newaxis],\n",
    "               eigen_pairs[70][1][:, np.newaxis],\n",
    "               eigen_pairs[71][1][:, np.newaxis],\n",
    "               eigen_pairs[72][1][:, np.newaxis],\n",
    "               eigen_pairs[73][1][:, np.newaxis],\n",
    "               eigen_pairs[74][1][:, np.newaxis],\n",
    "               eigen_pairs[75][1][:, np.newaxis],\n",
    "               eigen_pairs[76][1][:, np.newaxis],\n",
    "               eigen_pairs[77][1][:, np.newaxis],\n",
    "               eigen_pairs[78][1][:, np.newaxis],\n",
    "               eigen_pairs[79][1][:, np.newaxis],\n",
    "               eigen_pairs[80][1][:, np.newaxis],\n",
    "              ))\n",
    "\n",
    "\n",
    "\n",
    "print('Projection matrix W:\\n', W)"
   ]
  },
  {
   "cell_type": "code",
   "execution_count": 48,
   "metadata": {
    "jupyter": {
     "source_hidden": true
    }
   },
   "outputs": [],
   "source": [
    "Z_pca = Z.dot(W)\n"
   ]
  },
  {
   "cell_type": "code",
   "execution_count": null,
   "metadata": {
    "jupyter": {
     "source_hidden": true
    }
   },
   "outputs": [],
   "source": [
    "np.save('./output/Z_pca.npy', Z_pca)"
   ]
  },
  {
   "cell_type": "code",
   "execution_count": null,
   "metadata": {},
   "outputs": [],
   "source": [
    "########################################################################################################"
   ]
  },
  {
   "cell_type": "code",
   "execution_count": null,
   "metadata": {},
   "outputs": [],
   "source": [
    "#######################################################  create mytest"
   ]
  },
  {
   "cell_type": "code",
   "execution_count": 5,
   "metadata": {},
   "outputs": [],
   "source": [
    "#X_train,myX_test,Y_train,myY_test = train_test_split(X_train,Y_train,test_size=0.25,random_state=0)"
   ]
  },
  {
   "cell_type": "code",
   "execution_count": 4,
   "metadata": {},
   "outputs": [],
   "source": [
    "#X_train,X_val,Y_train,Y_val = train_test_split(X_train,Y_train,test_size=0.2,random_state=0)"
   ]
  },
  {
   "cell_type": "code",
   "execution_count": null,
   "metadata": {
    "colab": {
     "base_uri": "https://localhost:8080/"
    },
    "id": "PpNWCQVt5c6R",
    "jupyter": {
     "source_hidden": true
    },
    "outputId": "f741f9a9-de5b-46ae-eaf3-22f15e37f537"
   },
   "outputs": [
    {
     "name": "stdout",
     "output_type": "stream",
     "text": [
      "t.f. ok\n"
     ]
    }
   ],
   "source": [
    "################################################# outlier 處理 ################################  \n",
    "#僅使用全部的max去normalize : 去除outlier0.9776 不刪9775(160)\n",
    "# if不刪 然後用transformation跑160 : 0.9771~9776 但穩定很多\n",
    "# 刪除 + transformation : 0.976x\n",
    "#下一步嘗試loss or conv1D\n",
    "# 有明顯outlier -15(400UP) -8(2500UP) -6(14000UP) -1(70UP)\n",
    "\n",
    "#Y_train = Y_train[X_train[:,-15]<400]\n",
    "#X_train = X_train[X_train[:,-15]<400,:] #1點去除\n",
    "#Y_train = Y_train[X_train[:,-8]<2500]\n",
    "#X_train = X_train[X_train[:,-8]<2500,:] #1點去除\n",
    "#Y_train = Y_train[X_train[:,-6]<14000]\n",
    "#X_train = X_train[X_train[:,-6]<14000,:] #1點去除\n",
    "#Y_train = Y_train[X_train[:,-1]<70]\n",
    "#X_train = X_train[X_train[:,-1]<70,:] #3點去除\n",
    "#Y_train = Y_train[X_train[:,-100]<100000000]\n",
    "#X_train = X_train[X_train[:,-100]<100000000,:] #1點去除  #test有一點大於1e+8\n",
    "\n",
    "print('t.f. ok')"
   ]
  },
  {
   "cell_type": "code",
   "execution_count": null,
   "metadata": {
    "id": "_6oeQEa8ySQM",
    "jupyter": {
     "source_hidden": true
    }
   },
   "outputs": [],
   "source": [
    "#plt.hist(X_train[:,-99])  # vs X_test[:,-109]\n",
    "#plt.show()"
   ]
  },
  {
   "cell_type": "code",
   "execution_count": null,
   "metadata": {
    "id": "AoCTxtSHAubC",
    "jupyter": {
     "source_hidden": true
    }
   },
   "outputs": [],
   "source": [
    "#(X_test[:,-100]>10000000).sum()"
   ]
  },
  {
   "cell_type": "code",
   "execution_count": null,
   "metadata": {
    "id": "5B817CX4qQ09",
    "jupyter": {
     "source_hidden": true
    }
   },
   "outputs": [],
   "source": [
    "#plt.hist(np.sqrt(X_train[:,-99]))  # vs X_test[:,-109]\n",
    "#plt.show()"
   ]
  },
  {
   "cell_type": "markdown",
   "metadata": {
    "id": "M7GHdU0ClrYZ"
   },
   "source": [
    "有明顯outlier  -15(400UP)  -8(2500UP)  -6(14000UP)   -1(70UP)"
   ]
  },
  {
   "cell_type": "code",
   "execution_count": null,
   "metadata": {
    "id": "zmxcEOEJiQt0",
    "jupyter": {
     "source_hidden": true
    }
   },
   "outputs": [],
   "source": [
    "#d = pd.DataFrame(X_train[:,-99])  # vs X_train[:,-1]\n",
    "#d.boxplot(sym = 'o',vert = True,whis = 1.5,patch_artist = True,meanline = False,showmeans = True,\n",
    "#              showbox = True,showcaps = True,showfliers = True,notch = False,return_type = 'dict'\n",
    "#              )\n",
    "#plt.plot(d,kind='box')\n",
    "#plt.show()"
   ]
  },
  {
   "cell_type": "code",
   "execution_count": 3,
   "metadata": {
    "id": "RxFekVZqCGlj"
   },
   "outputs": [],
   "source": [
    "#################################################  少塞N Y正常全放 的code   0.98/0.98 ###############################原本做法\n",
    "# normalization\n",
    "\n",
    "max_ = np.max(X_train[:,-109:],axis=0)\n",
    "\n",
    "X_train[:,-109:] /= max_\n",
    "X_test[:,-109:] /= max_\n",
    "#myX_test[:,-109:] /= max_\n",
    "#X_val[:,-109:] /= max_\n",
    "\n",
    "X_train = X_train.astype(\"float32\")\n",
    "\n",
    "\n",
    "Nindex = np.where(Y_train==0)\n",
    "Yindex = np.where(Y_train==1)\n",
    "Nindex = list(Nindex[0])  #1375588\n",
    "Yindex = list(Yindex[0])  #223987有mytest時候"
   ]
  },
  {
   "cell_type": "code",
   "execution_count": 523,
   "metadata": {},
   "outputs": [],
   "source": [
    "\n",
    "Nindex = np.where(Y_train==0)\n",
    "Yindex = np.where(Y_train==1)\n",
    "Nindex = list(Nindex[0])  #1375588\n",
    "Yindex = list(Yindex[0])  #223987"
   ]
  },
  {
   "cell_type": "code",
   "execution_count": 814,
   "metadata": {},
   "outputs": [
    {
     "data": {
      "text/plain": [
       "298637"
      ]
     },
     "execution_count": 814,
     "metadata": {},
     "output_type": "execute_result"
    }
   ],
   "source": [
    "len(Yindex)"
   ]
  },
  {
   "cell_type": "code",
   "execution_count": 525,
   "metadata": {
    "colab": {
     "base_uri": "https://localhost:8080/"
    },
    "id": "qdxBl_zb1heK",
    "jupyter": {
     "source_hidden": true
    },
    "outputId": "5084b1fa-dbf3-48e6-cbde-0ec8df5feb98"
   },
   "outputs": [
    {
     "name": "stdout",
     "output_type": "stream",
     "text": [
      "ok\n"
     ]
    }
   ],
   "source": [
    "\n",
    "from random import sample \n",
    "\n",
    "sample_index = sample(Nindex,298637)   #原本全部 Y_train 'Y'有298637  現在改成\n",
    "sample_index.extend(Yindex) #接下來可直接塞入train\n",
    "\n",
    "import random\n",
    "random.shuffle(sample_index) #重排一下打散樣本\n",
    "\n",
    "\n",
    "sample_X_train = X_train[sample_index,:]\n",
    "sample_Y_train = Y_train[sample_index]\n",
    "\n",
    "print('ok')\n",
    "##################################################################################################原本作法  做六輪"
   ]
  },
  {
   "cell_type": "code",
   "execution_count": null,
   "metadata": {
    "colab": {
     "base_uri": "https://localhost:8080/"
    },
    "id": "Ht7iptSLE6Am",
    "jupyter": {
     "source_hidden": true
    },
    "outputId": "ad582af9-2de7-4f2a-9eb5-8a527d5bfed6"
   },
   "outputs": [
    {
     "name": "stdout",
     "output_type": "stream",
     "text": [
      "ok\n"
     ]
    }
   ],
   "source": [
    "#################### 目前嚴謹更動完成#################\n",
    "X_train[:,-109] = np.sqrt(X_train[:,-109])\n",
    "X_train[:,-108] = np.sqrt(X_train[:,-108])\n",
    "X_train[:,-107] = np.sqrt(X_train[:,-107])\n",
    "# 106不動\n",
    "X_train[:,-105] = np.log(X_train[:,-105])\n",
    "X_train[:,-104] = np.sqrt(X_train[:,-104])\n",
    "X_train[:,-103] = (X_train[:,-103])**3\n",
    "X_train[:,-102] = (X_train[:,-102])**2\n",
    "X_train[:,-101] = np.sqrt(X_train[:,-101])\n",
    "X_train[:,-100] = (X_train[:,-100])**(1/5)\n",
    "#X_train[:,-99] = (X_train[:,-99])**(1/3)   std 0 待處理\n",
    "X_train[:,-98] = (X_train[:,-98])**(1/2)\n",
    "\n",
    "X_test[:,-109] = np.sqrt(X_test[:,-109])\n",
    "X_test[:,-108] = np.sqrt(X_test[:,-108])\n",
    "X_test[:,-107] = np.sqrt(X_test[:,-107])\n",
    "# 106不動\n",
    "X_test[:,-105] = np.log(X_test[:,-105])\n",
    "X_test[:,-104] = np.sqrt(X_test[:,-104])\n",
    "X_test[:,-103] = (X_test[:,-103])**3\n",
    "X_test[:,-102] = (X_test[:,-102])**2\n",
    "X_test[:,-101] = np.sqrt(X_test[:,-101])\n",
    "X_test[:,-100] = (X_test[:,-100])**(1/5)\n",
    "#X_train[:,-99] = (X_train[:,-99])**(1/3)   std 0 待處理\n",
    "X_test[:,-98] = (X_test[:,-98])**(1/2)\n",
    "\n",
    "\n",
    "\n",
    "mean1 = np.mean(X_train[:,-109:-100],axis=0)\n",
    "std1 = np.std(X_train[:,-109:-100],axis=0)\n",
    "X_train[:,-109:-100] -= mean1\n",
    "X_train[:,-109:-100] /= std1\n",
    "X_test[:,-109:-100] -= mean1\n",
    "X_test[:,-109:-100] /= std1\n",
    "\n",
    "mean2 = np.mean(X_train[:,-98],axis=0)\n",
    "std2 = np.std(X_train[:,-98],axis=0)\n",
    "X_train[:,-98] -= mean2\n",
    "X_train[:,-98] /= std2\n",
    "X_test[:,-98] -= mean2\n",
    "X_test[:,-98] /= std2\n",
    "\n",
    "max__ = np.max(X_train[:,-99],axis=0)\n",
    "X_train[:,-99] /= max__\n",
    "X_test[:,-99] /= max__\n",
    "\n",
    "print('ok')"
   ]
  },
  {
   "cell_type": "code",
   "execution_count": null,
   "metadata": {
    "colab": {
     "base_uri": "https://localhost:8080/"
    },
    "id": "dvZwzeu2E3SY",
    "jupyter": {
     "source_hidden": true
    },
    "outputId": "fe6a6173-ff0c-4b5c-d37b-c973728e32b8"
   },
   "outputs": [
    {
     "name": "stdout",
     "output_type": "stream",
     "text": [
      "ok\n"
     ]
    }
   ],
   "source": [
    "################################################# 延續更動完成\n",
    "# normalization\n",
    "#mean = np.mean(X_train[:,-97:],axis=0)#對直線取mean\n",
    "#std = np.std(X_train[:,-109:],axis=0)\n",
    "max = np.max(X_train[:,-97:],axis=0)\n",
    "\n",
    "#X_train[:,-109:] -= mean\n",
    "X_train[:,-97:] /= max\n",
    "#X_test[:,-109:] -= mean\n",
    "X_test[:,-97:] /= max\n",
    "\n",
    "X_train = X_train.astype(\"float32\")\n",
    "\n",
    "\n",
    "Nindex = np.where(Y_train==0)\n",
    "Yindex = np.where(Y_train==1)\n",
    "Nindex = list(Nindex[0])\n",
    "Yindex = list(Yindex[0])\n",
    "\n",
    "\n",
    "from random import sample \n",
    "\n",
    "sample_index = sample(Nindex,298637)\n",
    "sample_index.extend(Yindex) #接下來可直接塞入train\n",
    "\n",
    "import random\n",
    "random.shuffle(sample_index) #重排一下打散樣本\n",
    "\n",
    "\n",
    "sample_X_train = X_train[sample_index,:]\n",
    "sample_Y_train = Y_train[sample_index]\n",
    "\n",
    "print('ok')"
   ]
  },
  {
   "cell_type": "code",
   "execution_count": 169,
   "metadata": {
    "id": "HMAKrFnihyLY"
   },
   "outputs": [],
   "source": [
    "model_dir = 'models'\n",
    "#os.makedirs(model_dir)"
   ]
  },
  {
   "cell_type": "code",
   "execution_count": 55,
   "metadata": {},
   "outputs": [
    {
     "data": {
      "text/plain": [
       "(2132767, 253)"
      ]
     },
     "execution_count": 55,
     "metadata": {},
     "output_type": "execute_result"
    }
   ],
   "source": [
    "X_train.shape"
   ]
  },
  {
   "cell_type": "code",
   "execution_count": 7,
   "metadata": {},
   "outputs": [
    {
     "name": "stdout",
     "output_type": "stream",
     "text": [
      "Requirement already satisfied: xgboost in /usr/local/lib/python3.6/dist-packages (1.2.1)\n",
      "Requirement already satisfied: scipy in /usr/local/lib/python3.6/dist-packages (from xgboost) (1.4.1)\n",
      "Requirement already satisfied: numpy in /usr/local/lib/python3.6/dist-packages (from xgboost) (1.18.1)\n",
      "Requirement already satisfied: numpy in /usr/local/lib/python3.6/dist-packages (from xgboost) (1.18.1)\n",
      "Note: you may need to restart the kernel to use updated packages.\n"
     ]
    }
   ],
   "source": [
    "pip install xgboost"
   ]
  },
  {
   "cell_type": "code",
   "execution_count": 8,
   "metadata": {},
   "outputs": [],
   "source": [
    "import xgboost as xgb"
   ]
  },
  {
   "cell_type": "code",
   "execution_count": 9,
   "metadata": {},
   "outputs": [],
   "source": [
    "#data = np.random.rand(5, 10)  # 5 entities, each contains 10 features\n",
    "#label = np.random.randint(2, size=5)  # binary target\n",
    "\n",
    "dtrain = xgb.DMatrix(X_train, label=Y_train)\n",
    "dval =xgb.DMatrix(X_val, label=Y_val)"
   ]
  },
  {
   "cell_type": "code",
   "execution_count": 10,
   "metadata": {},
   "outputs": [],
   "source": [
    "param = {'max_depth': 25, 'eta': 0.3,'gamma':0,'min_child_weight':0,\n",
    "         'objective': 'binary:logistic','tree_method':'gpu_hist',\n",
    "        'lambda':0,'alpha':0}"
   ]
  },
  {
   "cell_type": "code",
   "execution_count": 14,
   "metadata": {},
   "outputs": [],
   "source": [
    "def xgb_f1(y, t, threshold=0.5):\n",
    "    t = t.get_label()\n",
    "    y_bin = (y > threshold).astype(int) # works for both type(y) == <class 'numpy.ndarray'> and type(y) == <class 'pandas.core.series.Series'>\n",
    "    return 'f1',f1_score(t,y_bin)"
   ]
  },
  {
   "cell_type": "code",
   "execution_count": 18,
   "metadata": {},
   "outputs": [],
   "source": [
    "param['eval_metric'] = ['auc']   # f1"
   ]
  },
  {
   "cell_type": "code",
   "execution_count": 15,
   "metadata": {},
   "outputs": [],
   "source": [
    "param['eval_metric'] = [xgb_f1]   "
   ]
  },
  {
   "cell_type": "code",
   "execution_count": 19,
   "metadata": {},
   "outputs": [],
   "source": [
    "evallist = [(dval, 'eval'), (dtrain, 'train')]"
   ]
  },
  {
   "cell_type": "code",
   "execution_count": 20,
   "metadata": {},
   "outputs": [
    {
     "name": "stdout",
     "output_type": "stream",
     "text": [
      "[0]\teval-auc:0.97544\ttrain-auc:0.99892\n",
      "[1]\teval-auc:0.97983\ttrain-auc:0.99894\n",
      "[2]\teval-auc:0.98320\ttrain-auc:0.99917\n",
      "[3]\teval-auc:0.98446\ttrain-auc:0.99932\n",
      "[4]\teval-auc:0.98578\ttrain-auc:0.99944\n",
      "[5]\teval-auc:0.98690\ttrain-auc:0.99960\n",
      "[6]\teval-auc:0.98723\ttrain-auc:0.99972\n",
      "[7]\teval-auc:0.98766\ttrain-auc:0.99976\n",
      "[8]\teval-auc:0.98798\ttrain-auc:0.99984\n",
      "[9]\teval-auc:0.98877\ttrain-auc:0.99988\n",
      "[10]\teval-auc:0.99016\ttrain-auc:0.99995\n",
      "[11]\teval-auc:0.99165\ttrain-auc:0.99997\n",
      "[12]\teval-auc:0.99259\ttrain-auc:0.99999\n",
      "[13]\teval-auc:0.99288\ttrain-auc:0.99999\n",
      "[14]\teval-auc:0.99306\ttrain-auc:1.00000\n",
      "[15]\teval-auc:0.99327\ttrain-auc:1.00000\n",
      "[16]\teval-auc:0.99358\ttrain-auc:1.00000\n",
      "[17]\teval-auc:0.99380\ttrain-auc:1.00000\n",
      "[18]\teval-auc:0.99408\ttrain-auc:1.00000\n",
      "[19]\teval-auc:0.99470\ttrain-auc:1.00000\n",
      "[20]\teval-auc:0.99466\ttrain-auc:1.00000\n",
      "[21]\teval-auc:0.99479\ttrain-auc:1.00000\n",
      "[22]\teval-auc:0.99495\ttrain-auc:1.00000\n",
      "[23]\teval-auc:0.99512\ttrain-auc:1.00000\n",
      "[24]\teval-auc:0.99522\ttrain-auc:1.00000\n",
      "[25]\teval-auc:0.99536\ttrain-auc:1.00000\n",
      "[26]\teval-auc:0.99541\ttrain-auc:1.00000\n",
      "[27]\teval-auc:0.99541\ttrain-auc:1.00000\n",
      "[28]\teval-auc:0.99559\ttrain-auc:1.00000\n",
      "[29]\teval-auc:0.99566\ttrain-auc:1.00000\n",
      "[30]\teval-auc:0.99568\ttrain-auc:1.00000\n",
      "[31]\teval-auc:0.99582\ttrain-auc:1.00000\n",
      "[32]\teval-auc:0.99589\ttrain-auc:1.00000\n",
      "[33]\teval-auc:0.99595\ttrain-auc:1.00000\n",
      "[34]\teval-auc:0.99601\ttrain-auc:1.00000\n",
      "[35]\teval-auc:0.99610\ttrain-auc:1.00000\n",
      "[36]\teval-auc:0.99617\ttrain-auc:1.00000\n",
      "[37]\teval-auc:0.99624\ttrain-auc:1.00000\n",
      "[38]\teval-auc:0.99628\ttrain-auc:1.00000\n",
      "[39]\teval-auc:0.99632\ttrain-auc:1.00000\n",
      "[40]\teval-auc:0.99634\ttrain-auc:1.00000\n",
      "[41]\teval-auc:0.99638\ttrain-auc:1.00000\n",
      "[42]\teval-auc:0.99639\ttrain-auc:1.00000\n",
      "[43]\teval-auc:0.99642\ttrain-auc:1.00000\n",
      "[44]\teval-auc:0.99650\ttrain-auc:1.00000\n",
      "[45]\teval-auc:0.99653\ttrain-auc:1.00000\n",
      "[46]\teval-auc:0.99655\ttrain-auc:1.00000\n",
      "[47]\teval-auc:0.99660\ttrain-auc:1.00000\n",
      "[48]\teval-auc:0.99669\ttrain-auc:1.00000\n",
      "[49]\teval-auc:0.99675\ttrain-auc:1.00000\n",
      "[50]\teval-auc:0.99682\ttrain-auc:1.00000\n",
      "[51]\teval-auc:0.99689\ttrain-auc:1.00000\n",
      "[52]\teval-auc:0.99694\ttrain-auc:1.00000\n",
      "[53]\teval-auc:0.99702\ttrain-auc:1.00000\n",
      "[54]\teval-auc:0.99707\ttrain-auc:1.00000\n",
      "[55]\teval-auc:0.99714\ttrain-auc:1.00000\n",
      "[56]\teval-auc:0.99718\ttrain-auc:1.00000\n",
      "[57]\teval-auc:0.99723\ttrain-auc:1.00000\n",
      "[58]\teval-auc:0.99728\ttrain-auc:1.00000\n",
      "[59]\teval-auc:0.99732\ttrain-auc:1.00000\n",
      "[60]\teval-auc:0.99736\ttrain-auc:1.00000\n",
      "[61]\teval-auc:0.99738\ttrain-auc:1.00000\n",
      "[62]\teval-auc:0.99744\ttrain-auc:1.00000\n",
      "[63]\teval-auc:0.99745\ttrain-auc:1.00000\n",
      "[64]\teval-auc:0.99747\ttrain-auc:1.00000\n",
      "[65]\teval-auc:0.99749\ttrain-auc:1.00000\n",
      "[66]\teval-auc:0.99749\ttrain-auc:1.00000\n",
      "[67]\teval-auc:0.99748\ttrain-auc:1.00000\n",
      "[68]\teval-auc:0.99747\ttrain-auc:1.00000\n",
      "[69]\teval-auc:0.99750\ttrain-auc:1.00000\n",
      "[70]\teval-auc:0.99750\ttrain-auc:1.00000\n",
      "[71]\teval-auc:0.99751\ttrain-auc:1.00000\n",
      "[72]\teval-auc:0.99753\ttrain-auc:1.00000\n",
      "[73]\teval-auc:0.99753\ttrain-auc:1.00000\n",
      "[74]\teval-auc:0.99756\ttrain-auc:1.00000\n",
      "[75]\teval-auc:0.99757\ttrain-auc:1.00000\n",
      "[76]\teval-auc:0.99759\ttrain-auc:1.00000\n",
      "[77]\teval-auc:0.99760\ttrain-auc:1.00000\n",
      "[78]\teval-auc:0.99760\ttrain-auc:1.00000\n",
      "[79]\teval-auc:0.99760\ttrain-auc:1.00000\n"
     ]
    }
   ],
   "source": [
    "num_round = 80\n",
    "bst = xgb.train(param, dtrain, num_round,evallist)"
   ]
  },
  {
   "cell_type": "code",
   "execution_count": null,
   "metadata": {},
   "outputs": [],
   "source": []
  },
  {
   "cell_type": "code",
   "execution_count": 23,
   "metadata": {},
   "outputs": [],
   "source": [
    "bst.save_model('0001.model')"
   ]
  },
  {
   "cell_type": "code",
   "execution_count": null,
   "metadata": {},
   "outputs": [],
   "source": [
    "# dump model\n",
    "#bst.dump_model('dump.raw.txt')\n",
    "# dump model with feature map\n",
    "#bst.dump_model('dump.raw.txt', 'featmap.txt')"
   ]
  },
  {
   "cell_type": "code",
   "execution_count": null,
   "metadata": {},
   "outputs": [],
   "source": [
    "#bst = xgb.Booster({'nthread': 4})  # init model\n",
    "#bst.load_model('model.bin')  # load data"
   ]
  },
  {
   "cell_type": "code",
   "execution_count": null,
   "metadata": {},
   "outputs": [],
   "source": []
  },
  {
   "cell_type": "code",
   "execution_count": 24,
   "metadata": {},
   "outputs": [],
   "source": [
    "dmytest =xgb.DMatrix(X_test) #, label=Y_train)"
   ]
  },
  {
   "cell_type": "code",
   "execution_count": 25,
   "metadata": {},
   "outputs": [],
   "source": [
    "mypred = bst.predict(dmytest)"
   ]
  },
  {
   "cell_type": "code",
   "execution_count": 26,
   "metadata": {},
   "outputs": [
    {
     "data": {
      "text/plain": [
       "array([1.4576033e-10, 1.4158301e-10, 2.1801484e-10, ..., 3.3568929e-11,\n",
       "       3.3277023e-11, 3.3378921e-11], dtype=float32)"
      ]
     },
     "execution_count": 26,
     "metadata": {},
     "output_type": "execute_result"
    }
   ],
   "source": [
    "mypred"
   ]
  },
  {
   "cell_type": "code",
   "execution_count": 28,
   "metadata": {},
   "outputs": [],
   "source": [
    "trypred = np.where(mypred==1,'Y','N')"
   ]
  },
  {
   "cell_type": "code",
   "execution_count": 143,
   "metadata": {},
   "outputs": [
    {
     "name": "stdout",
     "output_type": "stream",
     "text": [
      "(0, 0)    1262002\n",
      "(1, 0)     205494\n",
      "(0, 1)     205162\n",
      "(1, 1)      33555\n",
      "dtype: int64\n",
      "F1= 0.632576323100484\n",
      "acc= 0.8600895667774188\n"
     ]
    }
   ],
   "source": [
    "#prediction = np.where(prediction>0.36,1,0)   #0.36最好? 0.38?\n",
    "ps = pd.Series([tuple(i) for i in zip(Y_train,trypred)])\n",
    "counts = ps.value_counts()\n",
    "print(counts)\n",
    "\n",
    "############################################ Recall太差 也許可以針對其最佳化\n",
    "#0 是 negative\n",
    "TN = counts[0]   #  true0   pred0\n",
    "TP = counts[1]   # 1 1\n",
    "FN = counts[2]    # 1 0\n",
    "FP = counts[3]     # 0 1\n",
    "\n",
    "Recall = TP/(TP+FN)\n",
    "Precision = TP/(TP+FP)\n",
    "F1 = 2 * Precision * Recall / (Precision + Recall)\n",
    "\n",
    "print(\"F1=\",F1)\n",
    "# 0.9710024200432481   0.5 cutpoint\n",
    "print(\"acc=\",(TN+TP)/(TN+TP+FN+FP))"
   ]
  },
  {
   "cell_type": "code",
   "execution_count": 102,
   "metadata": {},
   "outputs": [
    {
     "ename": "SyntaxError",
     "evalue": "invalid syntax (<ipython-input-102-bd5d42dcc0fc>, line 2)",
     "output_type": "error",
     "traceback": [
      "\u001b[0;36m  File \u001b[0;32m\"<ipython-input-102-bd5d42dcc0fc>\"\u001b[0;36m, line \u001b[0;32m2\u001b[0m\n\u001b[0;31m    (0, 0)    1832703\u001b[0m\n\u001b[0m                    ^\u001b[0m\n\u001b[0;31mSyntaxError\u001b[0m\u001b[0;31m:\u001b[0m invalid syntax\n"
     ]
    }
   ],
   "source": [
    "0.53\n",
    "(0, 0)    1832747\n",
    "(1, 1)     204402\n",
    "(1, 0)      94235\n",
    "(0, 1)       1383\n",
    "dtype: int64\n",
    "F1= 0.8104404645316818\n",
    "acc= 0.9551671607822139\n",
    "\n",
    "\n",
    "\n",
    "0.38\n",
    "(0, 0)    457899\n",
    "(1, 1)     70802\n",
    "(1, 0)      3848\n",
    "(0, 1)       643\n",
    "dtype: int64\n",
    "F1= 0.9692597282590094\n",
    "acc= 0.9915771429428799\n",
    "\n",
    "\n",
    "0.5\n",
    "(0, 0)    457965\n",
    "(1, 1)     70752\n",
    "(1, 0)      3898\n",
    "(0, 1)       577\n",
    "dtype: int64\n",
    "F1= 0.9693449057741182\n",
    "acc= 0.9916071508949872\n",
    "\n",
    "0.53\n",
    "(0, 0)    457990\n",
    "(1, 1)     70745\n",
    "(1, 0)      3905\n",
    "(0, 1)       552\n",
    "dtype: int64\n",
    "F1= 0.9694615168520079\n",
    "acc= 0.9916409098411079\n",
    "\n",
    "\n",
    "0.54\n",
    "(0, 0)    457991\n",
    "(1, 1)     70740\n",
    "(1, 0)      3910\n",
    "(0, 1)       551\n",
    "dtype: int64\n",
    "F1= 0.9694328530022406\n",
    "acc= 0.9916334078530811\n",
    "\n",
    "\n",
    "0.55\n",
    "\n",
    "(0, 0)    457992\n",
    "(1, 1)     70737\n",
    "(1, 0)      3913\n",
    "(0, 1)       550\n",
    "dtype: int64\n",
    "F1= 0.969418310640893\n",
    "acc= 0.9916296568590677"
   ]
  },
  {
   "cell_type": "code",
   "execution_count": 186,
   "metadata": {},
   "outputs": [
    {
     "ename": "ValueError",
     "evalue": "setting an array element with a sequence.",
     "output_type": "error",
     "traceback": [
      "\u001b[0;31m\u001b[0m",
      "\u001b[0;31mTypeError\u001b[0mTraceback (most recent call last)",
      "\u001b[0;31mTypeError\u001b[0m: int() argument must be a string, a bytes-like object or a number, not 'list'",
      "\nThe above exception was the direct cause of the following exception:\n",
      "\u001b[0;31mValueError\u001b[0mTraceback (most recent call last)",
      "\u001b[0;32m<ipython-input-186-fddb8ef8b044>\u001b[0m in \u001b[0;36m<module>\u001b[0;34m\u001b[0m\n\u001b[1;32m      1\u001b[0m \u001b[0;32mfor\u001b[0m \u001b[0mi\u001b[0m \u001b[0;32min\u001b[0m \u001b[0mrange\u001b[0m\u001b[0;34m(\u001b[0m\u001b[0mX_train\u001b[0m\u001b[0;34m.\u001b[0m\u001b[0mshape\u001b[0m\u001b[0;34m[\u001b[0m\u001b[0;36m0\u001b[0m\u001b[0;34m]\u001b[0m\u001b[0;34m)\u001b[0m\u001b[0;34m:\u001b[0m\u001b[0;34m\u001b[0m\u001b[0;34m\u001b[0m\u001b[0m\n\u001b[1;32m      2\u001b[0m     \u001b[0;32mif\u001b[0m \u001b[0mY_train\u001b[0m\u001b[0;34m[\u001b[0m\u001b[0mi\u001b[0m\u001b[0;34m]\u001b[0m \u001b[0;34m==\u001b[0m \u001b[0;36m0\u001b[0m\u001b[0;34m:\u001b[0m\u001b[0;34m\u001b[0m\u001b[0;34m\u001b[0m\u001b[0m\n\u001b[0;32m----> 3\u001b[0;31m         \u001b[0mY_train\u001b[0m\u001b[0;34m[\u001b[0m\u001b[0mi\u001b[0m\u001b[0;34m]\u001b[0m \u001b[0;34m=\u001b[0m \u001b[0;34m[\u001b[0m\u001b[0;34m[\u001b[0m\u001b[0;36m0\u001b[0m\u001b[0;34m,\u001b[0m\u001b[0;36m1\u001b[0m\u001b[0;34m]\u001b[0m\u001b[0;34m]\u001b[0m\u001b[0;34m\u001b[0m\u001b[0;34m\u001b[0m\u001b[0m\n\u001b[0m\u001b[1;32m      4\u001b[0m     \u001b[0;32melse\u001b[0m\u001b[0;34m:\u001b[0m\u001b[0;34m\u001b[0m\u001b[0;34m\u001b[0m\u001b[0m\n\u001b[1;32m      5\u001b[0m         \u001b[0mY_train\u001b[0m\u001b[0;34m[\u001b[0m\u001b[0mi\u001b[0m\u001b[0;34m]\u001b[0m \u001b[0;34m=\u001b[0m \u001b[0;34m[\u001b[0m\u001b[0;34m[\u001b[0m\u001b[0;36m1\u001b[0m\u001b[0;34m,\u001b[0m\u001b[0;36m0\u001b[0m\u001b[0;34m]\u001b[0m\u001b[0;34m]\u001b[0m\u001b[0;34m\u001b[0m\u001b[0;34m\u001b[0m\u001b[0m\n",
      "\u001b[0;31mValueError\u001b[0m: setting an array element with a sequence."
     ]
    }
   ],
   "source": [
    "for i in range(X_train.shape[0]):\n",
    "    if Y_train[i] == 0:\n",
    "        Y_train[i] = [[0,1]]\n",
    "    else:\n",
    "        Y_train[i] = [[1,0]]\n"
   ]
  },
  {
   "cell_type": "code",
   "execution_count": 9,
   "metadata": {
    "colab": {
     "base_uri": "https://localhost:8080/"
    },
    "id": "xC9l9BhFAsfv",
    "outputId": "532259a7-1564-463c-f7c9-1e514be42cdc"
   },
   "outputs": [
    {
     "name": "stdout",
     "output_type": "stream",
     "text": [
      "ok\n"
     ]
    }
   ],
   "source": [
    "###################################### \n",
    "import tensorflow as tf \n",
    "from tensorflow import keras\n",
    "from tensorflow.keras import layers\n",
    "#0.9780  -1 dropout\n",
    "#all dropout 0.9791\n",
    "inputs = keras.Input(shape=(253))  #2048 batch_size\n",
    "x = layers.Dense(32,activation='relu')(inputs) #32\n",
    "x = layers.Dropout(0.3)(x)\n",
    "x = layers.Dense(512,activation='relu')(x)  #512\n",
    "x = layers.Dropout(0.3)(x)\n",
    "x = layers.Dense(256,activation='relu')(x)  #256\n",
    "x = layers.Dropout(0.3)(x)\n",
    "x = layers.Dense(256,activation='relu')(x)  #256\n",
    "x = layers.Dropout(0.3)(x)\n",
    "x = layers.Dense(64,activation='relu')(x)  #64\n",
    "x = layers.Dropout(0.3)(x)\n",
    "x = layers.Dense(32,activation='relu')(x)  #32\n",
    "x = layers.Dropout(0.3)(x)\n",
    "x = layers.Dense(1,activation='sigmoid')(x)\n",
    "outputs = layers.Dense(2,activation='softmax')(x)\n",
    "model = keras.Model(inputs,outputs,name='model')\n",
    "#model.summary()\n",
    "print('ok')"
   ]
  },
  {
   "cell_type": "code",
   "execution_count": 14,
   "metadata": {},
   "outputs": [],
   "source": [
    "from keras.losses import binary_crossentropy, categorical_crossentropy\n",
    "import keras.backend as K\n",
    "import numpy as np\n",
    "#from prettytable import PrettyTable\n",
    "#from prettytable import ALL\n",
    "from sklearn.metrics import f1_score\n",
    "from matplotlib import pyplot as plt\n",
    "\n",
    "def f1(y_true, y_pred):\n",
    "    y_pred = K.round(y_pred)\n",
    "    tp = K.sum(K.cast(y_true*y_pred, 'float'), axis=0)\n",
    "    tn = K.sum(K.cast((1-y_true)*(1-y_pred), 'float'), axis=0)\n",
    "    fp = K.sum(K.cast((1-y_true)*y_pred, 'float'), axis=0)\n",
    "    fn = K.sum(K.cast(y_true*(1-y_pred), 'float'), axis=0)\n",
    "\n",
    "    p = tp / (tp + fp + K.epsilon())\n",
    "    r = tp / (tp + fn + K.epsilon())\n",
    "\n",
    "    f1 = 2*p*r / (p+r+K.epsilon())\n",
    "    #f1 = tf.where(tf.is_nan(f1), tf.zeros_like(f1), f1)\n",
    "    return K.mean(f1)\n",
    "\n",
    "\n",
    "def custom_loss(y_true,y_pred):\n",
    "    y_true = tf.cast(y_true,'float32')\n",
    "    y_pred = tf.cast(y_pred,'float32')\n",
    "    return -K.sum((y_pred)*tf.math.log(y_true+0.01)+(1-y_pred)*tf.math.log(1-y_true+0.01),axis=0)\n",
    "    \n",
    "    \n",
    "    \n",
    "\n",
    "def f1_loss(y_true, y_pred):\n",
    "    \n",
    "    tp = K.sum(K.cast(y_true*y_pred, 'float'), axis=0)\n",
    "    tn = K.sum(K.cast((1-y_true)*(1-y_pred), 'float'), axis=0)\n",
    "    fp = K.sum(K.cast((1-y_true)*y_pred, 'float'), axis=0)\n",
    "    fn = K.sum(K.cast(y_true*(1-y_pred), 'float'), axis=0)\n",
    "\n",
    "    p = tp / (tp + fp + K.epsilon())\n",
    "    r = tp / (tp + fn + K.epsilon())\n",
    "\n",
    "    f1 = 2*p*r / (p+r+K.epsilon())\n",
    "#    f1 = tf.where(tf.is_nan(f1), tf.zeros_like(f1), f1)\n",
    "    return 1 - K.mean(f1)"
   ]
  },
  {
   "cell_type": "code",
   "execution_count": 15,
   "metadata": {},
   "outputs": [
    {
     "name": "stdout",
     "output_type": "stream",
     "text": [
      "Epoch 1/10\n",
      "834/834 [==============================] - 5s 6ms/step - loss: nan - accuracy: 0.8599 - val_loss: nan - val_accuracy: 0.8603\n",
      "Epoch 2/10\n",
      "834/834 [==============================] - 5s 6ms/step - loss: nan - accuracy: 0.8599 - val_loss: nan - val_accuracy: 0.8603\n",
      "Epoch 3/10\n",
      "834/834 [==============================] - 5s 6ms/step - loss: nan - accuracy: 0.8599 - val_loss: nan - val_accuracy: 0.8603\n",
      "Epoch 4/10\n",
      "834/834 [==============================] - 5s 6ms/step - loss: nan - accuracy: 0.8599 - val_loss: nan - val_accuracy: 0.8603\n",
      "Epoch 5/10\n",
      "834/834 [==============================] - 5s 6ms/step - loss: nan - accuracy: 0.8599 - val_loss: nan - val_accuracy: 0.8603\n",
      "Epoch 6/10\n",
      "834/834 [==============================] - 5s 5ms/step - loss: nan - accuracy: 0.8599 - val_loss: nan - val_accuracy: 0.8603\n",
      "Epoch 7/10\n",
      "834/834 [==============================] - 5s 6ms/step - loss: nan - accuracy: 0.8599 - val_loss: nan - val_accuracy: 0.8603\n",
      "Epoch 8/10\n",
      "834/834 [==============================] - 5s 6ms/step - loss: nan - accuracy: 0.8599 - val_loss: nan - val_accuracy: 0.8603\n",
      "Epoch 9/10\n",
      "834/834 [==============================] - 5s 6ms/step - loss: nan - accuracy: 0.8599 - val_loss: nan - val_accuracy: 0.8603\n",
      "Epoch 10/10\n",
      "834/834 [==============================] - 5s 6ms/step - loss: nan - accuracy: 0.8599 - val_loss: nan - val_accuracy: 0.8603\n"
     ]
    }
   ],
   "source": [
    "model.compile(loss=custom_loss,optimizer=keras.optimizers.Adam(),metrics=[\"accuracy\"])\n",
    "history = model.fit(X_train,Y_train, batch_size=2048, epochs=10, \n",
    "                    validation_split=0.2)\n"
   ]
  },
  {
   "cell_type": "code",
   "execution_count": 174,
   "metadata": {},
   "outputs": [],
   "source": [
    "#######每次改\n",
    "from tensorflow import keras\n",
    "log_dir = os.path.join('fintech','model-try')\n",
    "model_cbk = keras.callbacks.TensorBoard(log_dir=log_dir)\n",
    "\n",
    "model_mckp = keras.callbacks.ModelCheckpoint(model_dir+'/Besr_model-try.h5',\n",
    "                                             monitor='val_accuracy',\n",
    "                                             save_best_only=True,\n",
    "                                             mode='max')"
   ]
  },
  {
   "cell_type": "code",
   "execution_count": 175,
   "metadata": {},
   "outputs": [
    {
     "name": "stdout",
     "output_type": "stream",
     "text": [
      "Epoch 1/200\n",
      "  1/834 [..............................] - ETA: 0s - loss: 0.7403 - accuracy: 0.1367WARNING:tensorflow:From /usr/local/lib/python3.6/dist-packages/tensorflow/python/ops/summary_ops_v2.py:1277: stop (from tensorflow.python.eager.profiler) is deprecated and will be removed after 2020-07-01.\n",
      "Instructions for updating:\n",
      "use `tf.profiler.experimental.stop` instead.\n",
      "WARNING:tensorflow:Callbacks method `on_train_batch_end` is slow compared to the batch time (batch time: 0.0059s vs `on_train_batch_end` time: 0.0241s). Check your callbacks.\n",
      "834/834 [==============================] - 6s 7ms/step - loss: 0.6934 - accuracy: 0.8510 - val_loss: 0.6931 - val_accuracy: 0.8603\n",
      "Epoch 2/200\n",
      "834/834 [==============================] - 5s 6ms/step - loss: 0.6931 - accuracy: 0.7370 - val_loss: 0.6931 - val_accuracy: 0.8603\n",
      "Epoch 3/200\n",
      "834/834 [==============================] - 5s 6ms/step - loss: 0.6931 - accuracy: 0.7254 - val_loss: 0.6931 - val_accuracy: 0.8603\n",
      "Epoch 4/200\n",
      "834/834 [==============================] - 5s 6ms/step - loss: 0.6931 - accuracy: 0.7061 - val_loss: 0.6931 - val_accuracy: 0.8603\n",
      "Epoch 5/200\n",
      "834/834 [==============================] - 5s 6ms/step - loss: 0.6931 - accuracy: 0.7493 - val_loss: 0.6931 - val_accuracy: 0.8603\n",
      "Epoch 6/200\n",
      "758/834 [==========================>...] - ETA: 0s - loss: 0.6931 - accuracy: 0.7436"
     ]
    },
    {
     "ename": "KeyboardInterrupt",
     "evalue": "",
     "output_type": "error",
     "traceback": [
      "\u001b[0;31m\u001b[0m",
      "\u001b[0;31mKeyboardInterrupt\u001b[0mTraceback (most recent call last)",
      "\u001b[0;32m<ipython-input-175-7df0cc064e4a>\u001b[0m in \u001b[0;36m<module>\u001b[0;34m\u001b[0m\n\u001b[1;32m     11\u001b[0m history = model.fit(X_train, Y_train, batch_size=2048, epochs=200, \n\u001b[1;32m     12\u001b[0m                     validation_split=0.2,callbacks=[model_cbk,model_mckp,keras.callbacks.ReduceLROnPlateau(monitor='val_loss',factor=0.5,patience=10),\n\u001b[0;32m---> 13\u001b[0;31m                                                    keras.callbacks.EarlyStopping(monitor='val_loss',patience=30)])\n\u001b[0m\u001b[1;32m     14\u001b[0m \u001b[0;34m\u001b[0m\u001b[0m\n\u001b[1;32m     15\u001b[0m \u001b[0;34m\u001b[0m\u001b[0m\n",
      "\u001b[0;32m/usr/local/lib/python3.6/dist-packages/tensorflow/python/keras/engine/training.py\u001b[0m in \u001b[0;36m_method_wrapper\u001b[0;34m(self, *args, **kwargs)\u001b[0m\n\u001b[1;32m    106\u001b[0m   \u001b[0;32mdef\u001b[0m \u001b[0m_method_wrapper\u001b[0m\u001b[0;34m(\u001b[0m\u001b[0mself\u001b[0m\u001b[0;34m,\u001b[0m \u001b[0;34m*\u001b[0m\u001b[0margs\u001b[0m\u001b[0;34m,\u001b[0m \u001b[0;34m**\u001b[0m\u001b[0mkwargs\u001b[0m\u001b[0;34m)\u001b[0m\u001b[0;34m:\u001b[0m\u001b[0;34m\u001b[0m\u001b[0;34m\u001b[0m\u001b[0m\n\u001b[1;32m    107\u001b[0m     \u001b[0;32mif\u001b[0m \u001b[0;32mnot\u001b[0m \u001b[0mself\u001b[0m\u001b[0;34m.\u001b[0m\u001b[0m_in_multi_worker_mode\u001b[0m\u001b[0;34m(\u001b[0m\u001b[0;34m)\u001b[0m\u001b[0;34m:\u001b[0m  \u001b[0;31m# pylint: disable=protected-access\u001b[0m\u001b[0;34m\u001b[0m\u001b[0;34m\u001b[0m\u001b[0m\n\u001b[0;32m--> 108\u001b[0;31m       \u001b[0;32mreturn\u001b[0m \u001b[0mmethod\u001b[0m\u001b[0;34m(\u001b[0m\u001b[0mself\u001b[0m\u001b[0;34m,\u001b[0m \u001b[0;34m*\u001b[0m\u001b[0margs\u001b[0m\u001b[0;34m,\u001b[0m \u001b[0;34m**\u001b[0m\u001b[0mkwargs\u001b[0m\u001b[0;34m)\u001b[0m\u001b[0;34m\u001b[0m\u001b[0;34m\u001b[0m\u001b[0m\n\u001b[0m\u001b[1;32m    109\u001b[0m \u001b[0;34m\u001b[0m\u001b[0m\n\u001b[1;32m    110\u001b[0m     \u001b[0;31m# Running inside `run_distribute_coordinator` already.\u001b[0m\u001b[0;34m\u001b[0m\u001b[0;34m\u001b[0m\u001b[0;34m\u001b[0m\u001b[0m\n",
      "\u001b[0;32m/usr/local/lib/python3.6/dist-packages/tensorflow/python/keras/engine/training.py\u001b[0m in \u001b[0;36mfit\u001b[0;34m(self, x, y, batch_size, epochs, verbose, callbacks, validation_split, validation_data, shuffle, class_weight, sample_weight, initial_epoch, steps_per_epoch, validation_steps, validation_batch_size, validation_freq, max_queue_size, workers, use_multiprocessing)\u001b[0m\n\u001b[1;32m   1096\u001b[0m                 batch_size=batch_size):\n\u001b[1;32m   1097\u001b[0m               \u001b[0mcallbacks\u001b[0m\u001b[0;34m.\u001b[0m\u001b[0mon_train_batch_begin\u001b[0m\u001b[0;34m(\u001b[0m\u001b[0mstep\u001b[0m\u001b[0;34m)\u001b[0m\u001b[0;34m\u001b[0m\u001b[0;34m\u001b[0m\u001b[0m\n\u001b[0;32m-> 1098\u001b[0;31m               \u001b[0mtmp_logs\u001b[0m \u001b[0;34m=\u001b[0m \u001b[0mtrain_function\u001b[0m\u001b[0;34m(\u001b[0m\u001b[0miterator\u001b[0m\u001b[0;34m)\u001b[0m\u001b[0;34m\u001b[0m\u001b[0;34m\u001b[0m\u001b[0m\n\u001b[0m\u001b[1;32m   1099\u001b[0m               \u001b[0;32mif\u001b[0m \u001b[0mdata_handler\u001b[0m\u001b[0;34m.\u001b[0m\u001b[0mshould_sync\u001b[0m\u001b[0;34m:\u001b[0m\u001b[0;34m\u001b[0m\u001b[0;34m\u001b[0m\u001b[0m\n\u001b[1;32m   1100\u001b[0m                 \u001b[0mcontext\u001b[0m\u001b[0;34m.\u001b[0m\u001b[0masync_wait\u001b[0m\u001b[0;34m(\u001b[0m\u001b[0;34m)\u001b[0m\u001b[0;34m\u001b[0m\u001b[0;34m\u001b[0m\u001b[0m\n",
      "\u001b[0;32m/usr/local/lib/python3.6/dist-packages/tensorflow/python/eager/def_function.py\u001b[0m in \u001b[0;36m__call__\u001b[0;34m(self, *args, **kwds)\u001b[0m\n\u001b[1;32m    778\u001b[0m       \u001b[0;32melse\u001b[0m\u001b[0;34m:\u001b[0m\u001b[0;34m\u001b[0m\u001b[0;34m\u001b[0m\u001b[0m\n\u001b[1;32m    779\u001b[0m         \u001b[0mcompiler\u001b[0m \u001b[0;34m=\u001b[0m \u001b[0;34m\"nonXla\"\u001b[0m\u001b[0;34m\u001b[0m\u001b[0;34m\u001b[0m\u001b[0m\n\u001b[0;32m--> 780\u001b[0;31m         \u001b[0mresult\u001b[0m \u001b[0;34m=\u001b[0m \u001b[0mself\u001b[0m\u001b[0;34m.\u001b[0m\u001b[0m_call\u001b[0m\u001b[0;34m(\u001b[0m\u001b[0;34m*\u001b[0m\u001b[0margs\u001b[0m\u001b[0;34m,\u001b[0m \u001b[0;34m**\u001b[0m\u001b[0mkwds\u001b[0m\u001b[0;34m)\u001b[0m\u001b[0;34m\u001b[0m\u001b[0;34m\u001b[0m\u001b[0m\n\u001b[0m\u001b[1;32m    781\u001b[0m \u001b[0;34m\u001b[0m\u001b[0m\n\u001b[1;32m    782\u001b[0m       \u001b[0mnew_tracing_count\u001b[0m \u001b[0;34m=\u001b[0m \u001b[0mself\u001b[0m\u001b[0;34m.\u001b[0m\u001b[0m_get_tracing_count\u001b[0m\u001b[0;34m(\u001b[0m\u001b[0;34m)\u001b[0m\u001b[0;34m\u001b[0m\u001b[0;34m\u001b[0m\u001b[0m\n",
      "\u001b[0;32m/usr/local/lib/python3.6/dist-packages/tensorflow/python/eager/def_function.py\u001b[0m in \u001b[0;36m_call\u001b[0;34m(self, *args, **kwds)\u001b[0m\n\u001b[1;32m    805\u001b[0m       \u001b[0;31m# In this case we have created variables on the first call, so we run the\u001b[0m\u001b[0;34m\u001b[0m\u001b[0;34m\u001b[0m\u001b[0;34m\u001b[0m\u001b[0m\n\u001b[1;32m    806\u001b[0m       \u001b[0;31m# defunned version which is guaranteed to never create variables.\u001b[0m\u001b[0;34m\u001b[0m\u001b[0;34m\u001b[0m\u001b[0;34m\u001b[0m\u001b[0m\n\u001b[0;32m--> 807\u001b[0;31m       \u001b[0;32mreturn\u001b[0m \u001b[0mself\u001b[0m\u001b[0;34m.\u001b[0m\u001b[0m_stateless_fn\u001b[0m\u001b[0;34m(\u001b[0m\u001b[0;34m*\u001b[0m\u001b[0margs\u001b[0m\u001b[0;34m,\u001b[0m \u001b[0;34m**\u001b[0m\u001b[0mkwds\u001b[0m\u001b[0;34m)\u001b[0m  \u001b[0;31m# pylint: disable=not-callable\u001b[0m\u001b[0;34m\u001b[0m\u001b[0;34m\u001b[0m\u001b[0m\n\u001b[0m\u001b[1;32m    808\u001b[0m     \u001b[0;32melif\u001b[0m \u001b[0mself\u001b[0m\u001b[0;34m.\u001b[0m\u001b[0m_stateful_fn\u001b[0m \u001b[0;32mis\u001b[0m \u001b[0;32mnot\u001b[0m \u001b[0;32mNone\u001b[0m\u001b[0;34m:\u001b[0m\u001b[0;34m\u001b[0m\u001b[0;34m\u001b[0m\u001b[0m\n\u001b[1;32m    809\u001b[0m       \u001b[0;31m# Release the lock early so that multiple threads can perform the call\u001b[0m\u001b[0;34m\u001b[0m\u001b[0;34m\u001b[0m\u001b[0;34m\u001b[0m\u001b[0m\n",
      "\u001b[0;32m/usr/local/lib/python3.6/dist-packages/tensorflow/python/eager/function.py\u001b[0m in \u001b[0;36m__call__\u001b[0;34m(self, *args, **kwargs)\u001b[0m\n\u001b[1;32m   2827\u001b[0m     \u001b[0;32mwith\u001b[0m \u001b[0mself\u001b[0m\u001b[0;34m.\u001b[0m\u001b[0m_lock\u001b[0m\u001b[0;34m:\u001b[0m\u001b[0;34m\u001b[0m\u001b[0;34m\u001b[0m\u001b[0m\n\u001b[1;32m   2828\u001b[0m       \u001b[0mgraph_function\u001b[0m\u001b[0;34m,\u001b[0m \u001b[0margs\u001b[0m\u001b[0;34m,\u001b[0m \u001b[0mkwargs\u001b[0m \u001b[0;34m=\u001b[0m \u001b[0mself\u001b[0m\u001b[0;34m.\u001b[0m\u001b[0m_maybe_define_function\u001b[0m\u001b[0;34m(\u001b[0m\u001b[0margs\u001b[0m\u001b[0;34m,\u001b[0m \u001b[0mkwargs\u001b[0m\u001b[0;34m)\u001b[0m\u001b[0;34m\u001b[0m\u001b[0;34m\u001b[0m\u001b[0m\n\u001b[0;32m-> 2829\u001b[0;31m     \u001b[0;32mreturn\u001b[0m \u001b[0mgraph_function\u001b[0m\u001b[0;34m.\u001b[0m\u001b[0m_filtered_call\u001b[0m\u001b[0;34m(\u001b[0m\u001b[0margs\u001b[0m\u001b[0;34m,\u001b[0m \u001b[0mkwargs\u001b[0m\u001b[0;34m)\u001b[0m  \u001b[0;31m# pylint: disable=protected-access\u001b[0m\u001b[0;34m\u001b[0m\u001b[0;34m\u001b[0m\u001b[0m\n\u001b[0m\u001b[1;32m   2830\u001b[0m \u001b[0;34m\u001b[0m\u001b[0m\n\u001b[1;32m   2831\u001b[0m   \u001b[0;34m@\u001b[0m\u001b[0mproperty\u001b[0m\u001b[0;34m\u001b[0m\u001b[0;34m\u001b[0m\u001b[0m\n",
      "\u001b[0;32m/usr/local/lib/python3.6/dist-packages/tensorflow/python/eager/function.py\u001b[0m in \u001b[0;36m_filtered_call\u001b[0;34m(self, args, kwargs, cancellation_manager)\u001b[0m\n\u001b[1;32m   1846\u001b[0m                            resource_variable_ops.BaseResourceVariable))],\n\u001b[1;32m   1847\u001b[0m         \u001b[0mcaptured_inputs\u001b[0m\u001b[0;34m=\u001b[0m\u001b[0mself\u001b[0m\u001b[0;34m.\u001b[0m\u001b[0mcaptured_inputs\u001b[0m\u001b[0;34m,\u001b[0m\u001b[0;34m\u001b[0m\u001b[0;34m\u001b[0m\u001b[0m\n\u001b[0;32m-> 1848\u001b[0;31m         cancellation_manager=cancellation_manager)\n\u001b[0m\u001b[1;32m   1849\u001b[0m \u001b[0;34m\u001b[0m\u001b[0m\n\u001b[1;32m   1850\u001b[0m   \u001b[0;32mdef\u001b[0m \u001b[0m_call_flat\u001b[0m\u001b[0;34m(\u001b[0m\u001b[0mself\u001b[0m\u001b[0;34m,\u001b[0m \u001b[0margs\u001b[0m\u001b[0;34m,\u001b[0m \u001b[0mcaptured_inputs\u001b[0m\u001b[0;34m,\u001b[0m \u001b[0mcancellation_manager\u001b[0m\u001b[0;34m=\u001b[0m\u001b[0;32mNone\u001b[0m\u001b[0;34m)\u001b[0m\u001b[0;34m:\u001b[0m\u001b[0;34m\u001b[0m\u001b[0;34m\u001b[0m\u001b[0m\n",
      "\u001b[0;32m/usr/local/lib/python3.6/dist-packages/tensorflow/python/eager/function.py\u001b[0m in \u001b[0;36m_call_flat\u001b[0;34m(self, args, captured_inputs, cancellation_manager)\u001b[0m\n\u001b[1;32m   1922\u001b[0m       \u001b[0;31m# No tape is watching; skip to running the function.\u001b[0m\u001b[0;34m\u001b[0m\u001b[0;34m\u001b[0m\u001b[0;34m\u001b[0m\u001b[0m\n\u001b[1;32m   1923\u001b[0m       return self._build_call_outputs(self._inference_function.call(\n\u001b[0;32m-> 1924\u001b[0;31m           ctx, args, cancellation_manager=cancellation_manager))\n\u001b[0m\u001b[1;32m   1925\u001b[0m     forward_backward = self._select_forward_and_backward_functions(\n\u001b[1;32m   1926\u001b[0m         \u001b[0margs\u001b[0m\u001b[0;34m,\u001b[0m\u001b[0;34m\u001b[0m\u001b[0;34m\u001b[0m\u001b[0m\n",
      "\u001b[0;32m/usr/local/lib/python3.6/dist-packages/tensorflow/python/eager/function.py\u001b[0m in \u001b[0;36mcall\u001b[0;34m(self, ctx, args, cancellation_manager)\u001b[0m\n\u001b[1;32m    548\u001b[0m               \u001b[0minputs\u001b[0m\u001b[0;34m=\u001b[0m\u001b[0margs\u001b[0m\u001b[0;34m,\u001b[0m\u001b[0;34m\u001b[0m\u001b[0;34m\u001b[0m\u001b[0m\n\u001b[1;32m    549\u001b[0m               \u001b[0mattrs\u001b[0m\u001b[0;34m=\u001b[0m\u001b[0mattrs\u001b[0m\u001b[0;34m,\u001b[0m\u001b[0;34m\u001b[0m\u001b[0;34m\u001b[0m\u001b[0m\n\u001b[0;32m--> 550\u001b[0;31m               ctx=ctx)\n\u001b[0m\u001b[1;32m    551\u001b[0m         \u001b[0;32melse\u001b[0m\u001b[0;34m:\u001b[0m\u001b[0;34m\u001b[0m\u001b[0;34m\u001b[0m\u001b[0m\n\u001b[1;32m    552\u001b[0m           outputs = execute.execute_with_cancellation(\n",
      "\u001b[0;32m/usr/local/lib/python3.6/dist-packages/tensorflow/python/eager/execute.py\u001b[0m in \u001b[0;36mquick_execute\u001b[0;34m(op_name, num_outputs, inputs, attrs, ctx, name)\u001b[0m\n\u001b[1;32m     58\u001b[0m     \u001b[0mctx\u001b[0m\u001b[0;34m.\u001b[0m\u001b[0mensure_initialized\u001b[0m\u001b[0;34m(\u001b[0m\u001b[0;34m)\u001b[0m\u001b[0;34m\u001b[0m\u001b[0;34m\u001b[0m\u001b[0m\n\u001b[1;32m     59\u001b[0m     tensors = pywrap_tfe.TFE_Py_Execute(ctx._handle, device_name, op_name,\n\u001b[0;32m---> 60\u001b[0;31m                                         inputs, attrs, num_outputs)\n\u001b[0m\u001b[1;32m     61\u001b[0m   \u001b[0;32mexcept\u001b[0m \u001b[0mcore\u001b[0m\u001b[0;34m.\u001b[0m\u001b[0m_NotOkStatusException\u001b[0m \u001b[0;32mas\u001b[0m \u001b[0me\u001b[0m\u001b[0;34m:\u001b[0m\u001b[0;34m\u001b[0m\u001b[0;34m\u001b[0m\u001b[0m\n\u001b[1;32m     62\u001b[0m     \u001b[0;32mif\u001b[0m \u001b[0mname\u001b[0m \u001b[0;32mis\u001b[0m \u001b[0;32mnot\u001b[0m \u001b[0;32mNone\u001b[0m\u001b[0;34m:\u001b[0m\u001b[0;34m\u001b[0m\u001b[0;34m\u001b[0m\u001b[0m\n",
      "\u001b[0;31mKeyboardInterrupt\u001b[0m: "
     ]
    }
   ],
   "source": [
    "###################  model try\n",
    "#model.compile(loss=keras.losses.BinaryCrossentropy(),optimizer=keras.optimizers.Adam(),metrics=[\"accuracy\"])\n",
    "#history = model.fit(sample_X_train, sample_Y_train, batch_size=2048, epochs=150, \n",
    "#                    validation_split=0.2,callbacks=[model_cbk,model_mckp,\n",
    "#                                                    keras.callbacks.ReduceLROnPlateau(monitor='val_loss',factor=0.5,patience=10),\n",
    "#                                                   keras.callbacks.EarlyStopping(monitor='val_accuracy',patience=20)])\n",
    "\n",
    "##############################  model try 2 \n",
    "#tf.keras.metrics.FalseNegatives()\n",
    "model.compile(loss=keras.losses.BinaryCrossentropy(),optimizer=keras.optimizers.Adam(),metrics=[\"accuracy\"])\n",
    "history = model.fit(X_train, Y_train, batch_size=2048, epochs=200, \n",
    "                    validation_split=0.2,callbacks=[model_cbk,model_mckp,keras.callbacks.ReduceLROnPlateau(monitor='val_loss',factor=0.5,patience=10),\n",
    "                                                   keras.callbacks.EarlyStopping(monitor='val_loss',patience=30)])\n",
    "\n",
    "\n"
   ]
  },
  {
   "cell_type": "code",
   "execution_count": 345,
   "metadata": {
    "collapsed": true,
    "jupyter": {
     "outputs_hidden": true,
     "source_hidden": true
    }
   },
   "outputs": [
    {
     "name": "stdout",
     "output_type": "stream",
     "text": [
      "782/782 [==============================] - 4s 5ms/step - loss: 0.0292 - accuracy: 0.9911\n"
     ]
    }
   ],
   "source": [
    "#model.compile(loss=keras.losses.BinaryCrossentropy(),optimizer=keras.optimizers.Adam(),metrics=[tf.keras.metrics.FalseNegatives()])\n",
    "history = model.fit(X_train, Y_train, batch_size=2048, epochs=1)"
   ]
  },
  {
   "cell_type": "code",
   "execution_count": null,
   "metadata": {
    "colab": {
     "base_uri": "https://localhost:8080/"
    },
    "id": "Tu23j93FFOsE",
    "jupyter": {
     "source_hidden": true
    },
    "outputId": "5fcc095c-2da7-469e-998d-39ffd13de2d6"
   },
   "outputs": [],
   "source": [
    "\n",
    "\n",
    "\n",
    "#model.compile(optimizer='adam', loss=f1_loss, metrics=['accuracy', f1])\n",
    "\n",
    "history = model.fit(sample_X_train, sample_Y_train, batch_size=2048, epochs=150, \n",
    "                    validation_split=0.2,callbacks=[model_cbk,model_mckp,\n",
    "                                                    keras.callbacks.ReduceLROnPlateau(monitor='val_loss',factor=0.5,patience=10),\n",
    "                                                   keras.callbacks.EarlyStopping(monitor='val_accuracy',patience=10)])\n",
    "\n",
    "\n",
    "#history = model.fit(sample_X_train, sample_Y_train, batch_size=2048, epochs=80, validation_data=(X_val,Y_val))\n",
    "\n",
    "\n",
    "#test_scores = model.evaluate(x_test, y_test, verbose=2)\n",
    "#print(\"Test loss:\", test_scores[0])\n",
    "#print(\"Test accuracy:\", test_scores[1])"
   ]
  },
  {
   "cell_type": "code",
   "execution_count": null,
   "metadata": {
    "id": "w8V2dzzYeTEQ",
    "jupyter": {
     "source_hidden": true
    }
   },
   "outputs": [],
   "source": [
    "history.history.keys()"
   ]
  },
  {
   "cell_type": "code",
   "execution_count": null,
   "metadata": {},
   "outputs": [],
   "source": [
    "#model.save('/content/gdrive/My Drive/fintech/模型合成用/model6.h5')"
   ]
  },
  {
   "cell_type": "code",
   "execution_count": 766,
   "metadata": {},
   "outputs": [],
   "source": [
    "model = keras.models.load_model('models/Besr_model-try.h5')"
   ]
  },
  {
   "cell_type": "code",
   "execution_count": 582,
   "metadata": {},
   "outputs": [
    {
     "name": "stdout",
     "output_type": "stream",
     "text": [
      "1042/1042 [==============================] - 6s 5ms/step - loss: 0.0365 - recall_6: 0.9348\n"
     ]
    }
   ],
   "source": [
    "history = model.fit(X_train, Y_train, batch_size=2048, epochs=1)  # 不再fit即可"
   ]
  },
  {
   "cell_type": "code",
   "execution_count": 583,
   "metadata": {},
   "outputs": [],
   "source": [
    "model.save('models/Besr_model-recall_sample.h5')"
   ]
  },
  {
   "cell_type": "code",
   "execution_count": 779,
   "metadata": {},
   "outputs": [],
   "source": [
    "predict_ = model.predict(X_train)"
   ]
  },
  {
   "cell_type": "code",
   "execution_count": 782,
   "metadata": {
    "colab": {
     "base_uri": "https://localhost:8080/"
    },
    "id": "lBgfP5lMFQpp",
    "outputId": "602347ba-f11a-44ad-92ea-2e8010b4426a"
   },
   "outputs": [
    {
     "name": "stdout",
     "output_type": "stream",
     "text": [
      "(0, [0])    396829\n",
      "(1, [0])     64773\n",
      "(0, [1])     61713\n",
      "(1, [1])      9877\n",
      "dtype: int64\n",
      "F1= 0.13571744831579308\n",
      "acc= 0.7620350642920374\n"
     ]
    }
   ],
   "source": [
    "#model = keras.models.load_model('models/Besr_model-1.h5')\n",
    "#prediction = model.predict(myX_test)\n",
    "prediction = np.where(predict_>0.5,1,0)\n",
    "ps = pd.Series([tuple(i) for i in zip(myY_test,prediction)])\n",
    "counts = ps.value_counts()\n",
    "print(counts)\n",
    "\n",
    "############################################ Recall太差 也許可以針對其最佳化\n",
    "#0 是 negative\n",
    "TN = 396349#counts[0]   #  true0   pred0\n",
    "TP = 9962#counts[1]   # 1 1\n",
    "FN = 64688#counts[2]    # 1 0\n",
    "FP = 62193#counts[3]     # 0 1\n",
    "\n",
    "Recall = TP/(TP+FN)\n",
    "Precision = TP/(TP+FP)\n",
    "F1 = 2 * Precision * Recall / (Precision + Recall)\n",
    "\n",
    "print(\"F1=\",F1)\n",
    "# 0.9710024200432481   0.5 cutpoint\n",
    "print(\"acc=\",(TN+TP)/(TN+TP+FN+FP))"
   ]
  },
  {
   "cell_type": "code",
   "execution_count": null,
   "metadata": {},
   "outputs": [],
   "source": [
    "0.38\n",
    "(0, [0])    457929\n",
    "(1, [1])     71198\n",
    "(1, [0])      3452\n",
    "(0, [1])       613\n",
    "dtype: int64\n",
    "F1= 0.9722451710694314\n",
    "acc= 0.992376104667737"
   ]
  },
  {
   "cell_type": "code",
   "execution_count": null,
   "metadata": {
    "jupyter": {
     "source_hidden": true
    }
   },
   "outputs": [],
   "source": [
    "#(0, [0])    458542\n",
    "#(1, [0])     43700\n",
    "#(1, [1])     30950\n",
    "TN = 458542   #  true0   pred0\n",
    "FN = 46827   # 1 0\n",
    "TP = 27823    # 1 1\n",
    "FP = 0     # 0 1\n",
    "\n",
    "Recall = TP/(TP+FN)    ##太低\n",
    "Precision = TP/(TP+FP)\n",
    "F1 = 2 * Precision * Recall / (Precision + Recall)\n",
    "\n",
    "print(\"F1=\",F1)\n",
    "# 0.9710024200432481   0.5 cutpoint\n",
    "print(\"acc=\",(TN+TP)/(TN+TP+FN+FP))"
   ]
  },
  {
   "cell_type": "code",
   "execution_count": null,
   "metadata": {},
   "outputs": [],
   "source": [
    "###################################################################### try val_true_positives\n",
    "抽樣版 抽完全跑一次\n",
    "(0, [0])    458194\n",
    "(1, [1])     70488\n",
    "(1, [0])      4162\n",
    "(0, [1])       348\n",
    "dtype: int64\n",
    "F1= 0.9690004536518978\n",
    "acc= 0.9915415084997524\n",
    "############# X_train版 用val版即可  不用全部重fit\n",
    "(0, [0])    458281\n",
    "(1, [1])     70167\n",
    "(1, [0])      4483\n",
    "(0, [1])       261\n",
    "dtype: int64\n",
    "F1= 0.9673003487778987\n",
    "acc= 0.9911026422001831\n",
    "\n"
   ]
  },
  {
   "cell_type": "code",
   "execution_count": null,
   "metadata": {},
   "outputs": [],
   "source": [
    "###################################################################### accuracy                                             X_train版本已做\n",
    "抽樣 然後跑完X_train 1次\n",
    "(0, [0])    458132\n",
    "(1, [1])     70581\n",
    "(1, [0])      4069\n",
    "(0, [1])       410\n",
    "dtype: int64\n",
    "F1= 0.9692462974025172\n",
    "acc= 0.9915996489069604\n",
    "################# X_train版 未全跑\n",
    "(0, [0])    458280\n",
    "(1, [1])     70630\n",
    "(1, [0])      4020\n",
    "(0, [1])       262\n",
    "dtype: int64\n",
    "F1= 0.970578939412678\n",
    "acc= 0.9919691218172816\n",
    "\n",
    "######################################################################## tf.keras.metrics.FalseNegatives()\n",
    "X_train部抽樣 分0.2validation看看\n",
    "用tf.keras.metrics.FalseNegatives()\n",
    "ALL train 3次\n",
    "(0, [0])    458042\n",
    "(1, [1])     70019\n",
    "(1, [0])      4631\n",
    "(0, [1])       500\n",
    "dtype: int64\n",
    "F1= 0.9646549883239535\n",
    "acc= 0.9903768248585876\n",
    "###########################抽樣版\n",
    "抽完 All train跑一次\n",
    "(0, [0])    458176\n",
    "(1, [1])     70571\n",
    "(1, [0])      4079\n",
    "(0, [1])       366\n",
    "dtype: int64\n",
    "F1= 0.9694684278129229\n",
    "acc= 0.9916634158051884\n",
    "########################################################################  tf.keras.metrics.AUC()\n",
    "抽樣完ALL train 1次\n",
    "(0, [0])    458245\n",
    "(1, [1])     70436\n",
    "(1, [0])      4214\n",
    "(0, [1])       297\n",
    "dtype: int64\n",
    "F1= 0.9689716129121011\n",
    "acc= 0.9915396330027457\n",
    "################ train validation 0.2\n",
    "不用all train全跑1次\n",
    "(0, [0])    458168\n",
    "(1, [1])     70445\n",
    "(1, [0])      4205\n",
    "(0, [1])       374\n",
    "dtype: int64\n",
    "F1= 0.9685225030762568\n",
    "acc= 0.9914120992062897\n",
    "#####################################################################  tf.keras.metrics.Recall\n",
    "X_train validation 0.2 不用alltrain跑1次\n",
    "(0, [0])    458188\n",
    "(1, [1])     70050\n",
    "(1, [0])      4600\n",
    "(0, [1])       354\n",
    "dtype: int64\n",
    "F1= 0.9658472017317689\n",
    "acc= 0.9907087878287746\n",
    "#################### try 7\n",
    "smaple版本的 recall metrics\n",
    "ALL 跑2次\n",
    "(0, [0])    458201\n",
    "(1, [1])     69930\n",
    "(1, [0])      4720\n",
    "(0, [1])       341\n",
    "dtype: int64\n",
    "F1= 0.9650775249963772\n",
    "acc= 0.990508109649057"
   ]
  },
  {
   "cell_type": "code",
   "execution_count": 178,
   "metadata": {
    "id": "oX9xVXiy0FOE"
   },
   "outputs": [],
   "source": [
    "#   model.save('models/合成3.h5')   先嘗試1/3就好 等待尋找更好"
   ]
  },
  {
   "cell_type": "code",
   "execution_count": null,
   "metadata": {},
   "outputs": [],
   "source": []
  },
  {
   "cell_type": "code",
   "execution_count": null,
   "metadata": {},
   "outputs": [],
   "source": []
  },
  {
   "cell_type": "code",
   "execution_count": null,
   "metadata": {},
   "outputs": [],
   "source": []
  },
  {
   "cell_type": "code",
   "execution_count": null,
   "metadata": {},
   "outputs": [],
   "source": []
  },
  {
   "cell_type": "code",
   "execution_count": null,
   "metadata": {
    "id": "IiRdd67TFSWL"
   },
   "outputs": [],
   "source": [
    "###  cutpoint的處理?  似乎0.5還是比較好\n",
    "## 可以每10個epochs 換一組sampleX_train 重抽 Y依樣 N重抽 依樣分0.2validation\n",
    "#下一大步:漸進式learning rate\n",
    "#  更改loss function\n",
    "#  更改data 對NA的處理"
   ]
  },
  {
   "cell_type": "code",
   "execution_count": null,
   "metadata": {
    "id": "MVZbnWPPRY-z"
   },
   "outputs": [],
   "source": []
  },
  {
   "cell_type": "code",
   "execution_count": null,
   "metadata": {
    "id": "FmhjtQ44RZHg"
   },
   "outputs": [],
   "source": [
    "############################################################################################################## 12/4操作"
   ]
  },
  {
   "cell_type": "code",
   "execution_count": null,
   "metadata": {
    "colab": {
     "base_uri": "https://localhost:8080/"
    },
    "id": "kLQY9A0ly_Ch",
    "outputId": "f86f3b9d-f6e6-45c2-e9d1-d12b1067e4ed"
   },
   "outputs": [
    {
     "name": "stdout",
     "output_type": "stream",
     "text": [
      "1042/1042 [==============================] - 6s 6ms/step - loss: 0.0219 - accuracy: 0.9934\n"
     ]
    }
   ],
   "source": [
    "#model = keras.models.load_model('/content/gdrive/My Drive/fintech/模型合成用/model3.h5')\n",
    "history = model.fit(X_train, Y_train, batch_size=2048, epochs=1)  #40 9829  80  9840   120 9853  \n",
    "#至少也得 0.9920acc   我們最高base on X_train acc: 0.9927741755194074   f1: 0.9736685182369134\n",
    "\n",
    "#猜測 模型對X_train fit到0.9937可大幅提高成績  雖然acc一樣到頂但F1score卻差很多\n",
    "# /0.9906    ||400 0.0205/0.9937)\n",
    "# 0.0299/0.9906 ||400 0.0216/0.9934\n",
    "# 0.03/0.9906  ||400 0.0219/0.9934\n",
    "\n",
    "\n"
   ]
  },
  {
   "cell_type": "code",
   "execution_count": null,
   "metadata": {
    "id": "wZF62TQ6cswH"
   },
   "outputs": [],
   "source": [
    "#model.save('/content/gdrive/My Drive/fintech/模型合成用/model3故意overfit到頂.h5')"
   ]
  },
  {
   "cell_type": "code",
   "execution_count": 40,
   "metadata": {},
   "outputs": [],
   "source": [
    "from tensorflow.keras import models"
   ]
  },
  {
   "cell_type": "code",
   "execution_count": null,
   "metadata": {},
   "outputs": [],
   "source": [
    "ourbest = models.load_model('12_01_try1.h5')"
   ]
  },
  {
   "cell_type": "code",
   "execution_count": null,
   "metadata": {},
   "outputs": [],
   "source": []
  },
  {
   "cell_type": "code",
   "execution_count": null,
   "metadata": {
    "id": "NdEa7MPOy_Fc"
   },
   "outputs": [],
   "source": [
    "model = keras.models.load_model('/content/gdrive/My Drive/fintech/模型合成用/model3故意overfit到頂.h5')\n",
    "p3 = model.predict(X_test)"
   ]
  },
  {
   "cell_type": "code",
   "execution_count": null,
   "metadata": {
    "id": "hG78PZLVy_MP"
   },
   "outputs": [],
   "source": [
    "#prediction_for_Y_test = (p1+p2+p3+p4+p5+p6)/6 #for test   model5壞掉?acc0.9899而已   判斷一下是否有哪個model特別漂亮\n",
    "prediction_for_Y_test = p1*98/100+p2/100+p3/100"
   ]
  },
  {
   "cell_type": "code",
   "execution_count": null,
   "metadata": {
    "id": "Rl1BuQ0PRPem"
   },
   "outputs": [],
   "source": [
    "## 12/4工作  用上面三行 epochs調高一點ex400 讓Y輸出變少"
   ]
  },
  {
   "cell_type": "code",
   "execution_count": null,
   "metadata": {
    "id": "nkQhLUKZD9uI"
   },
   "outputs": [],
   "source": []
  },
  {
   "cell_type": "code",
   "execution_count": null,
   "metadata": {
    "id": "WkAxu2na1YCD"
   },
   "outputs": [],
   "source": [
    "model = keras.models.load_model('/content/gdrive/My Drive/fintech/模型合成用/model3故意overfit到頂.h5')"
   ]
  },
  {
   "cell_type": "code",
   "execution_count": null,
   "metadata": {
    "id": "43nrqocG1gph"
   },
   "outputs": [],
   "source": [
    "t3 = model.predict(X_train)"
   ]
  },
  {
   "cell_type": "code",
   "execution_count": null,
   "metadata": {
    "id": "8ft1sByf1gvt"
   },
   "outputs": [],
   "source": [
    "prediction = (t1+t2+t3)/3"
   ]
  },
  {
   "cell_type": "code",
   "execution_count": null,
   "metadata": {
    "id": "cyyqPfKF1YHx"
   },
   "outputs": [],
   "source": [
    "prediction = t1*98/100+t2/100+t3/100"
   ]
  },
  {
   "cell_type": "code",
   "execution_count": null,
   "metadata": {
    "id": "u5Oz8-f4dEOe"
   },
   "outputs": [],
   "source": [
    "#故意fit X_train很多的結果"
   ]
  },
  {
   "cell_type": "code",
   "execution_count": null,
   "metadata": {
    "id": "rVZQjomsFVSG"
   },
   "outputs": [],
   "source": [
    "#prediction = model.predict(X_train)"
   ]
  },
  {
   "cell_type": "code",
   "execution_count": null,
   "metadata": {
    "id": "5SOIC0LbFWVs"
   },
   "outputs": [],
   "source": [
    "prediction = np.where(prediction>0.5,1,0)"
   ]
  },
  {
   "cell_type": "code",
   "execution_count": null,
   "metadata": {
    "colab": {
     "base_uri": "https://localhost:8080/"
    },
    "collapsed": true,
    "id": "zfqpSDZwFXtH",
    "jupyter": {
     "outputs_hidden": true,
     "source_hidden": true
    },
    "outputId": "47b0af72-a614-43e7-be62-40470f887041"
   },
   "outputs": [
    {
     "name": "stdout",
     "output_type": "stream",
     "text": [
      "(0, [0])    1833293\n",
      "(1, [1])     288731\n",
      "(1, [0])       9906\n",
      "(0, [1])        837\n",
      "dtype: int64\n",
      "F1= 0.981735959401909\n",
      "acc= 0.9949628815524622\n"
     ]
    }
   ],
   "source": [
    "ps = pd.Series([tuple(i) for i in zip(Y_train,prediction)])\n",
    "counts = ps.value_counts()\n",
    "print(counts)\n",
    "\n",
    "\n",
    "#0 是 negative\n",
    "TN = counts[0]   #  true0   pred0\n",
    "TP = counts[1]   # 1 1\n",
    "FP = counts[2]    # 1 0\n",
    "FN = counts[3]     # 0 1\n",
    "\n",
    "Recall = TP/(TP+FN)\n",
    "Precision = TP/(TP+FP)\n",
    "F1 = 2 * Precision * Recall / (Precision + Recall)\n",
    "\n",
    "print(\"F1=\",F1)\n",
    "# 0.9710024200432481   0.5 cutpoint\n",
    "print(\"acc=\",(TN+TP)/(TN+TP+FN+FP))\n"
   ]
  },
  {
   "cell_type": "code",
   "execution_count": null,
   "metadata": {
    "colab": {
     "base_uri": "https://localhost:8080/"
    },
    "collapsed": true,
    "id": "qAX0wR0j8J51",
    "jupyter": {
     "outputs_hidden": true
    },
    "outputId": "3d51fd80-26c7-48cc-b4db-a24026c66bfb"
   },
   "outputs": [
    {
     "data": {
      "text/plain": [
       "288715"
      ]
     },
     "execution_count": 33,
     "metadata": {
      "tags": []
     },
     "output_type": "execute_result"
    }
   ],
   "source": [
    "counts[1]"
   ]
  },
  {
   "cell_type": "code",
   "execution_count": null,
   "metadata": {
    "colab": {
     "base_uri": "https://localhost:8080/"
    },
    "collapsed": true,
    "id": "LuhdgQ9-FZA5",
    "jupyter": {
     "outputs_hidden": true,
     "source_hidden": true
    },
    "outputId": "48fc6eea-5dec-439a-cdf6-ff328f26b43e"
   },
   "outputs": [
    {
     "name": "stdout",
     "output_type": "stream",
     "text": [
      "0.9817282892734669\n",
      "0.994961006054576\n"
     ]
    }
   ],
   "source": [
    "#0 是 negative\n",
    "TN = 1833305   #  true0   pred0\n",
    "TP = 288715   # 1 1\n",
    "FP = 9922    # 1 0\n",
    "FN = 825     # 0 1\n",
    "\n",
    "Recall = TP/(TP+FN)\n",
    "Precision = TP/(TP+FP)\n",
    "F1 = 2 * Precision * Recall / (Precision + Recall)\n",
    "\n",
    "print(F1)\n",
    "# 0.9710024200432481   0.5 cutpoint\n",
    "print((TN+TP)/(TN+TP+FN+FP))"
   ]
  },
  {
   "cell_type": "code",
   "execution_count": null,
   "metadata": {},
   "outputs": [],
   "source": []
  },
  {
   "cell_type": "code",
   "execution_count": null,
   "metadata": {},
   "outputs": [],
   "source": []
  },
  {
   "cell_type": "code",
   "execution_count": null,
   "metadata": {},
   "outputs": [],
   "source": []
  },
  {
   "cell_type": "code",
   "execution_count": 159,
   "metadata": {},
   "outputs": [],
   "source": [
    "#model = keras.models.load_model('models/Besr_model-1.h5')\n",
    "w = 0.857#714\n",
    "w2 = 1\n",
    "w3 = 0.99\n",
    "w4 = 1\n",
    "w5 = 0.85\n",
    "w6 = 0.93\n",
    "w7 = 0.9995\n",
    "w8 = 0.9995\n",
    "w9 = 1\n",
    "prediction = ((((((((p1*w+p2*(1-w))*w2+p3*(1-w2))*w3+p4*(1-w3))*w4+p5*(1-w4))*w5+p6*(1-w5))*w6+p7*(1-w6))*w7+p8*(1-w7))*w8+p9*(1-w8))*w9+p10*(1-w9)\n",
    "\n",
    "#model.predict(X_train)\n",
    "\n",
    "#prediction = np.where(prediction>0.36,1,0)   #0.36最好? 0.38?\n",
    "#ps = pd.Series([tuple(i) for i in zip(Y_train,prediction)])\n",
    "#counts = ps.value_counts()\n",
    "#print(counts)\n",
    "\n",
    "############################################ Recall太差 也許可以針對其最佳化\n",
    "#0 是 negative\n",
    "#TN = counts[0]   #  true0   pred0\n",
    "#TP = counts[1]   # 1 1\n",
    "#FN = counts[2]    # 1 0\n",
    "#FP = counts[3]     # 0 1\n",
    "\n",
    "#Recall = TP/(TP+FN)\n",
    "#Precision = TP/(TP+FP)\n",
    "#F1 = 2 * Precision * Recall / (Precision + Recall)\n",
    "\n",
    "#print(\"F1=\",F1)\n",
    "# 0.9710024200432481   0.5 cutpoint\n",
    "#print(\"acc=\",(TN+TP)/(TN+TP+FN+FP))"
   ]
  },
  {
   "cell_type": "code",
   "execution_count": null,
   "metadata": {},
   "outputs": [],
   "source": [
    "0.36\n",
    "\n",
    "(0, [0])    1831930\n",
    "(1, [1])     285167\n",
    "(1, [0])      13470\n",
    "(0, [1])       2200\n",
    "dtype: int64\n",
    "F1= 0.9732595681940738\n",
    "acc= 0.9926527370312838"
   ]
  },
  {
   "cell_type": "code",
   "execution_count": 14,
   "metadata": {},
   "outputs": [
    {
     "data": {
      "text/plain": [
       "numpy.ndarray"
      ]
     },
     "execution_count": 14,
     "metadata": {},
     "output_type": "execute_result"
    }
   ],
   "source": [
    "type(Y_train)"
   ]
  },
  {
   "cell_type": "code",
   "execution_count": null,
   "metadata": {},
   "outputs": [],
   "source": [
    "#######################################################################################"
   ]
  },
  {
   "cell_type": "code",
   "execution_count": 11,
   "metadata": {},
   "outputs": [],
   "source": [
    "model = keras.models.load_model('models/Besr_model-1206_0138.h5') #acc 看all train\n",
    "p1 = model.predict(X_test)\n",
    "#(0, [0])    1832077\n",
    "#(1, [1])     284947\n",
    "#(1, [0])      13690\n",
    "#(0, [1])       2053\n",
    "#dtype: int64\n",
    "#F1= 0.9731181602255322\n",
    "#acc= 0.9926185091948628"
   ]
  },
  {
   "cell_type": "code",
   "execution_count": 150,
   "metadata": {},
   "outputs": [],
   "source": [
    "model = keras.models.load_model('models/Besr_model-acc_sample.h5')  #acc sample\n",
    "p2 = model.predict(X_test)\n",
    "#(0, [0])    1832604\n",
    "#(1, [1])     283393\n",
    "#(1, [0])      15244\n",
    "#(0, [1])       1526\n",
    "#dtype: int64\n",
    "#F1= 0.9712623981246015\n",
    "#acc= 0.9921369751126119"
   ]
  },
  {
   "cell_type": "code",
   "execution_count": 151,
   "metadata": {},
   "outputs": [],
   "source": [
    "model = keras.models.load_model('models/Besr_model-val_true_positives_sample.h5') # all train\n",
    "p3 = model.predict(X_test)\n",
    "#(0, [0])    1824375\n",
    "#(1, [1])     284684\n",
    "#(1, [0])      13953\n",
    "#(0, [1])       9755\n",
    "#dtype: int64\n",
    "#F1= 0.9600253593131403\n",
    "#acc= 0.9888839240292071"
   ]
  },
  {
   "cell_type": "code",
   "execution_count": 152,
   "metadata": {},
   "outputs": [],
   "source": [
    "model = keras.models.load_model('models/Besr_model-val_true_positives_samplesample.h5') # sample\n",
    "p4 = model.predict(X_test)\n",
    "#(0, [0])    1832610\n",
    "#(1, [1])     279831\n",
    "#(1, [0])      18806\n",
    "#(0, [1])       1520\n",
    "#dtype: int64\n",
    "#F1= 0.964954447333393\n",
    "#acc= 0.9904696574918873"
   ]
  },
  {
   "cell_type": "code",
   "execution_count": 153,
   "metadata": {},
   "outputs": [],
   "source": [
    "model = keras.models.load_model('models/Besr_model-FN_sample.h5')  # sample\n",
    "p5 = model.predict(X_test)\n",
    "#(0, [0])    1833445\n",
    "#(1, [1])     276720\n",
    "#(1, [0])      21917\n",
    "#(0, [1])        685\n",
    "#dtype: int64\n",
    "#F1= 0.9607632776776692\n",
    "#acc= 0.9894024991947081"
   ]
  },
  {
   "cell_type": "code",
   "execution_count": 154,
   "metadata": {},
   "outputs": [],
   "source": [
    "model = keras.models.load_model('models/Besr_model-FN.h5')  # all train\n",
    "p6 = model.predict(X_test)\n",
    "#(0, [0])    1831125\n",
    "#(1, [1])     284864\n",
    "#(1, [0])      13773\n",
    "#(0, [1])       3005\n",
    "#dtype: int64\n",
    "#F1= 0.9713933020293056\n",
    "#acc= 0.9921332241168398"
   ]
  },
  {
   "cell_type": "code",
   "execution_count": 155,
   "metadata": {},
   "outputs": [],
   "source": [
    "model = keras.models.load_model('models/Besr_model-auc_sample.h5')  #sample\n",
    "p7 = model.predict(X_test)\n",
    "#(0, [0])    1833364\n",
    "#(1, [1])     279936\n",
    "#(1, [0])      18701\n",
    "#(0, [1])        766\n",
    "#type: int64\n",
    "#F1=0.9663979121032763\n",
    "#acc= 0.9908724206629229"
   ]
  },
  {
   "cell_type": "code",
   "execution_count": 156,
   "metadata": {},
   "outputs": [],
   "source": [
    "model = keras.models.load_model('models/Besr_model-auc_all.h5')  #all\n",
    "p8 = model.predict(X_test)\n",
    "#(0, [0])    1833567\n",
    "#(1, [1])     280526\n",
    "#(1, [0])      18111\n",
    "#(0, [1])        563\n",
    "#dtype: int64\n",
    "#F1= 0.9677882309918824\n",
    "#acc= 0.9912442381188381"
   ]
  },
  {
   "cell_type": "code",
   "execution_count": 157,
   "metadata": {},
   "outputs": [],
   "source": [
    "model = keras.models.load_model('models/Besr_model-recall_sample.h5') #sample\n",
    "p9 = model.predict(X_test)\n",
    "#(0, [0])    1832865\n",
    "#(1, [1])     279997\n",
    "#(1, [0])      18640\n",
    "#(0, [1])       1265\n",
    "#dtype: int64\n",
    "#F1= 0.965675057208238\n",
    "#acc= 0.9906670536443971"
   ]
  },
  {
   "cell_type": "code",
   "execution_count": 158,
   "metadata": {},
   "outputs": [],
   "source": [
    "model = keras.models.load_model('models/Besr_model-recall_all.h5') #all 差\n",
    "p10 = model.predict(X_test)\n",
    "#(0, [0])    1828042\n",
    "#(1, [1])     284670\n",
    "#(1, [0])      13967\n",
    "#(0, [1])       6088\n",
    "#dtype: int64\n",
    "#F1= 0.9659735830809558\n",
    "#acc= 0.9905967224736691"
   ]
  },
  {
   "cell_type": "code",
   "execution_count": null,
   "metadata": {},
   "outputs": [],
   "source": []
  },
  {
   "cell_type": "code",
   "execution_count": null,
   "metadata": {},
   "outputs": [],
   "source": []
  },
  {
   "cell_type": "code",
   "execution_count": null,
   "metadata": {},
   "outputs": [],
   "source": []
  },
  {
   "cell_type": "code",
   "execution_count": 184,
   "metadata": {},
   "outputs": [],
   "source": [
    "#model = keras.models.load_model('models/合成3.h5')"
   ]
  },
  {
   "cell_type": "code",
   "execution_count": null,
   "metadata": {},
   "outputs": [],
   "source": [
    "# model.save('models/合成3.h5')   先嘗試1/3就好 等待尋找更好"
   ]
  },
  {
   "cell_type": "code",
   "execution_count": null,
   "metadata": {},
   "outputs": [],
   "source": []
  },
  {
   "cell_type": "code",
   "execution_count": null,
   "metadata": {},
   "outputs": [],
   "source": []
  },
  {
   "cell_type": "code",
   "execution_count": null,
   "metadata": {},
   "outputs": [],
   "source": []
  },
  {
   "cell_type": "code",
   "execution_count": null,
   "metadata": {},
   "outputs": [],
   "source": []
  },
  {
   "cell_type": "code",
   "execution_count": null,
   "metadata": {},
   "outputs": [],
   "source": []
  },
  {
   "cell_type": "code",
   "execution_count": null,
   "metadata": {},
   "outputs": [],
   "source": []
  },
  {
   "cell_type": "code",
   "execution_count": null,
   "metadata": {},
   "outputs": [],
   "source": []
  },
  {
   "cell_type": "code",
   "execution_count": null,
   "metadata": {},
   "outputs": [],
   "source": [
    "############################## 做出 Y_test"
   ]
  },
  {
   "cell_type": "code",
   "execution_count": 160,
   "metadata": {},
   "outputs": [],
   "source": [
    "prediction_for_Y_test = prediction        #(p1+p2+p3+p4+p5+p6+p7+p8)/8"
   ]
  },
  {
   "cell_type": "code",
   "execution_count": 189,
   "metadata": {},
   "outputs": [
    {
     "data": {
      "text/plain": [
       "(533200, 1)"
      ]
     },
     "execution_count": 189,
     "metadata": {},
     "output_type": "execute_result"
    }
   ],
   "source": [
    "prediction.shape"
   ]
  },
  {
   "cell_type": "code",
   "execution_count": 515,
   "metadata": {
    "colab": {
     "base_uri": "https://localhost:8080/"
    },
    "id": "xO8y1HbxFakE",
    "outputId": "08769de7-1909-4e01-fbbf-149a0d3abf8e"
   },
   "outputs": [],
   "source": [
    "\n",
    "#prediction_for_Y_test = model.predict(X_test)"
   ]
  },
  {
   "cell_type": "code",
   "execution_count": null,
   "metadata": {},
   "outputs": [],
   "source": [
    "p1"
   ]
  },
  {
   "cell_type": "code",
   "execution_count": 802,
   "metadata": {},
   "outputs": [],
   "source": [
    "prediction_for_Y_test = np.where(p1>0.38,'Y','N')"
   ]
  },
  {
   "cell_type": "code",
   "execution_count": null,
   "metadata": {},
   "outputs": [],
   "source": [
    "#############################################"
   ]
  },
  {
   "cell_type": "code",
   "execution_count": 198,
   "metadata": {
    "id": "-jMfozpsFb0U"
   },
   "outputs": [],
   "source": [
    "prediction_for_Y_test = np.where(prediction>0.45,'Y','N')"
   ]
  },
  {
   "cell_type": "code",
   "execution_count": 29,
   "metadata": {},
   "outputs": [
    {
     "data": {
      "text/plain": [
       "array(['N', 'N', 'N', ..., 'N', 'N', 'N'], dtype='<U1')"
      ]
     },
     "execution_count": 29,
     "metadata": {},
     "output_type": "execute_result"
    }
   ],
   "source": [
    "trypred"
   ]
  },
  {
   "cell_type": "code",
   "execution_count": 199,
   "metadata": {
    "id": "C7aLRYNAFdLU"
   },
   "outputs": [],
   "source": [
    "prediction_for_Y_test = prediction_for_Y_test[:,0]"
   ]
  },
  {
   "cell_type": "code",
   "execution_count": 30,
   "metadata": {
    "id": "qJxE4003FeUs"
   },
   "outputs": [],
   "source": [
    "Y_test['loan_status'] = trypred #prediction_for_Y_test"
   ]
  },
  {
   "cell_type": "code",
   "execution_count": 31,
   "metadata": {
    "colab": {
     "base_uri": "https://localhost:8080/",
     "height": 402
    },
    "id": "K8fEewIKFfiN",
    "outputId": "410b19e1-3cc9-4e2a-99bf-51a8651b461d"
   },
   "outputs": [
    {
     "data": {
      "text/html": [
       "<div>\n",
       "<style scoped>\n",
       "    .dataframe tbody tr th:only-of-type {\n",
       "        vertical-align: middle;\n",
       "    }\n",
       "\n",
       "    .dataframe tbody tr th {\n",
       "        vertical-align: top;\n",
       "    }\n",
       "\n",
       "    .dataframe thead th {\n",
       "        text-align: right;\n",
       "    }\n",
       "</style>\n",
       "<table border=\"1\" class=\"dataframe\">\n",
       "  <thead>\n",
       "    <tr style=\"text-align: right;\">\n",
       "      <th></th>\n",
       "      <th>Unnamed: 0</th>\n",
       "      <th>loan_status</th>\n",
       "    </tr>\n",
       "  </thead>\n",
       "  <tbody>\n",
       "    <tr>\n",
       "      <th>0</th>\n",
       "      <td>1272824</td>\n",
       "      <td>N</td>\n",
       "    </tr>\n",
       "    <tr>\n",
       "      <th>1</th>\n",
       "      <td>951395</td>\n",
       "      <td>N</td>\n",
       "    </tr>\n",
       "    <tr>\n",
       "      <th>2</th>\n",
       "      <td>2322300</td>\n",
       "      <td>N</td>\n",
       "    </tr>\n",
       "    <tr>\n",
       "      <th>3</th>\n",
       "      <td>1056876</td>\n",
       "      <td>N</td>\n",
       "    </tr>\n",
       "    <tr>\n",
       "      <th>4</th>\n",
       "      <td>354427</td>\n",
       "      <td>N</td>\n",
       "    </tr>\n",
       "    <tr>\n",
       "      <th>...</th>\n",
       "      <td>...</td>\n",
       "      <td>...</td>\n",
       "    </tr>\n",
       "    <tr>\n",
       "      <th>533195</th>\n",
       "      <td>981852</td>\n",
       "      <td>N</td>\n",
       "    </tr>\n",
       "    <tr>\n",
       "      <th>533196</th>\n",
       "      <td>169028</td>\n",
       "      <td>N</td>\n",
       "    </tr>\n",
       "    <tr>\n",
       "      <th>533197</th>\n",
       "      <td>317970</td>\n",
       "      <td>N</td>\n",
       "    </tr>\n",
       "    <tr>\n",
       "      <th>533198</th>\n",
       "      <td>26153</td>\n",
       "      <td>N</td>\n",
       "    </tr>\n",
       "    <tr>\n",
       "      <th>533199</th>\n",
       "      <td>1927329</td>\n",
       "      <td>N</td>\n",
       "    </tr>\n",
       "  </tbody>\n",
       "</table>\n",
       "<p>533200 rows × 2 columns</p>\n",
       "</div>"
      ],
      "text/plain": [
       "        Unnamed: 0 loan_status\n",
       "0          1272824           N\n",
       "1           951395           N\n",
       "2          2322300           N\n",
       "3          1056876           N\n",
       "4           354427           N\n",
       "...            ...         ...\n",
       "533195      981852           N\n",
       "533196      169028           N\n",
       "533197      317970           N\n",
       "533198       26153           N\n",
       "533199     1927329           N\n",
       "\n",
       "[533200 rows x 2 columns]"
      ]
     },
     "execution_count": 31,
     "metadata": {},
     "output_type": "execute_result"
    }
   ],
   "source": [
    "Y_test"
   ]
  },
  {
   "cell_type": "code",
   "execution_count": 32,
   "metadata": {
    "colab": {
     "base_uri": "https://localhost:8080/"
    },
    "id": "dqP1t_oDb44n",
    "outputId": "de811a08-ddec-4f73-9e5c-9886f1d21e0e"
   },
   "outputs": [
    {
     "data": {
      "text/plain": [
       "67899"
      ]
     },
     "execution_count": 32,
     "metadata": {},
     "output_type": "execute_result"
    }
   ],
   "source": [
    "(Y_test['loan_status']=='Y').sum()  #533200 vs 0      78754 vs 0.890892||\n",
    "\n",
    "\n",
    "##              Y數量/系統F1 score\n",
    "#70582  0.894953   \n",
    "#70718  0.895046 \n",
    "#71646  0.894897\n",
    "#70620  0.89469\n",
    "#70936  0.895403   \n",
    "#       0.894978\n",
    "#0.36 cut point:71737  0.89552\n",
    "#0.38 cut point:71570  \n",
    "# 0.5 cut point:70944\n",
    "# 0.4   :71432\n",
    "# 0.45  :71162\n",
    "\n",
    "\n",
    "\n",
    "\n",
    "\n",
    "## p1 0.36:71633\n",
    "## p1 0.38:71513"
   ]
  },
  {
   "cell_type": "code",
   "execution_count": 33,
   "metadata": {
    "colab": {
     "base_uri": "https://localhost:8080/"
    },
    "id": "E9GqB_ZrFg7e",
    "outputId": "7c7d978c-b850-4830-d6eb-f93046b2dc44"
   },
   "outputs": [
    {
     "name": "stdout",
     "output_type": "stream",
     "text": [
      "ok\n"
     ]
    }
   ],
   "source": [
    "Y_test.to_csv('12_7_xgb_withval.csv',index=0)   \n",
    "print('ok')"
   ]
  },
  {
   "cell_type": "code",
   "execution_count": null,
   "metadata": {
    "id": "i7dIQ_SsFiOD",
    "jupyter": {
     "source_hidden": true
    }
   },
   "outputs": [],
   "source": [
    "model.save('/content/gdrive/My Drive/fintech/12_3_0149.h5')\n",
    "print('ok')"
   ]
  },
  {
   "cell_type": "code",
   "execution_count": null,
   "metadata": {
    "id": "uBMb1_GsFkRH"
   },
   "outputs": [],
   "source": [
    "#Y_test = pd.read_csv(\"/content/gdrive/My Drive/fintech/Y_test.csv\")"
   ]
  },
  {
   "cell_type": "code",
   "execution_count": null,
   "metadata": {
    "id": "EC1Hr0d0FllK",
    "jupyter": {
     "source_hidden": true
    }
   },
   "outputs": [],
   "source": [
    "#0 是 negative\n",
    "TN = 366548   #  true0   pred0\n",
    "TP = 55612   # 1 1\n",
    "FP = 4308    # 1 0\n",
    "FN = 86     # 0 1\n",
    "\n",
    "Recall = TP/(TP+FN)\n",
    "Precision = TP/(TP+FP)\n",
    "F1 = 2 * Precision * Recall / (Precision + Recall)\n",
    "\n",
    "print(F1)"
   ]
  },
  {
   "cell_type": "code",
   "execution_count": null,
   "metadata": {
    "id": "qRw3DTIsFn1w"
   },
   "outputs": [],
   "source": []
  },
  {
   "cell_type": "code",
   "execution_count": null,
   "metadata": {
    "id": "QsPcDRwfRHzu"
   },
   "outputs": [],
   "source": []
  },
  {
   "cell_type": "code",
   "execution_count": null,
   "metadata": {
    "id": "tOjCJTffRHxI"
   },
   "outputs": [],
   "source": []
  },
  {
   "cell_type": "code",
   "execution_count": null,
   "metadata": {
    "id": "ZS4XMSiCFn4B"
   },
   "outputs": [],
   "source": [
    "prediction = model.predict(testdata)"
   ]
  },
  {
   "cell_type": "code",
   "execution_count": null,
   "metadata": {
    "colab": {
     "base_uri": "https://localhost:8080/"
    },
    "id": "wlQRekH4FJmP",
    "jupyter": {
     "source_hidden": true
    },
    "outputId": "46a5aa66-af27-473a-b93e-bc46a3986402"
   },
   "outputs": [
    {
     "name": "stdout",
     "output_type": "stream",
     "text": [
      "ok\n"
     ]
    }
   ],
   "source": [
    "import tensorflow as tf \n",
    "from tensorflow import keras\n",
    "from tensorflow.keras import layers\n",
    "# valF1_0.9750(未BatchNormalization)  #0.965~0.970  不如用原本的\n",
    "inputs = keras.Input(shape=(253,))\n",
    "x = layers.Dense(512)(inputs) #64\n",
    "x = layers.BatchNormalization()(x)\n",
    "x = layers.ReLU()(x)\n",
    "x = layers.Dropout(0.3)(x)\n",
    "\n",
    "x = layers.Dense(512)(x)  #64\n",
    "x = layers.BatchNormalization()(x)\n",
    "x = layers.ReLU()(x)\n",
    "x = layers.Dropout(0.3)(x)\n",
    "\n",
    "x = layers.Dense(256)(x)  #16\n",
    "x = layers.BatchNormalization()(x)\n",
    "x = layers.ReLU()(x)\n",
    "x = layers.Dropout(0.3)(x)\n",
    "\n",
    "x = layers.Dense(128)(x)  #\n",
    "x = layers.BatchNormalization()(x)\n",
    "x = layers.ReLU()(x)\n",
    "x = layers.Dropout(0.3)(x)\n",
    "\n",
    "x = layers.Dense(64)(x)\n",
    "x = layers.BatchNormalization()(x)\n",
    "x = layers.ReLU()(x)\n",
    "\n",
    "x = layers.Dense(32)(x)  #\n",
    "x = layers.BatchNormalization()(x)\n",
    "x = layers.ReLU()(x)\n",
    "x = layers.Dropout(0.3)(x)\n",
    "outputs = layers.Dense(1,activation='sigmoid')(x)\n",
    "\n",
    "\n",
    "model = keras.Model(inputs,outputs,name='model')\n",
    "#model.summary()\n",
    "print('ok')"
   ]
  }
 ],
 "metadata": {
  "accelerator": "GPU",
  "colab": {
   "collapsed_sections": [],
   "name": "Fintech 6NN合成.ipynb",
   "provenance": []
  },
  "kernelspec": {
   "display_name": "Python 3",
   "language": "python",
   "name": "python3"
  },
  "language_info": {
   "codemirror_mode": {
    "name": "ipython",
    "version": 3
   },
   "file_extension": ".py",
   "mimetype": "text/x-python",
   "name": "python",
   "nbconvert_exporter": "python",
   "pygments_lexer": "ipython3",
   "version": "3.6.9"
  }
 },
 "nbformat": 4,
 "nbformat_minor": 4
}
